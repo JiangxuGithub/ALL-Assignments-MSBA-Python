{
 "cells": [
  {
   "cell_type": "markdown",
   "metadata": {},
   "source": [
    "# Week 5 Assignment\n",
    "\n",
    "This week focuses on using strings & dictionaries as well as building on our use of lists, loops, & functions. \n",
    "\n",
    "Total Points: 100"
   ]
  },
  {
   "cell_type": "markdown",
   "metadata": {},
   "source": [
    "### 1. (10 Points) Strings & F-Strings\n",
    "\n",
    "Rewrite the the statement below using an f-string. For Celcius, run the calculation directly in the string (i.e. no need to use the variable and round it to 2 decimal places.)\n",
    "\n",
    "#### Expected Output >>>\n",
    "\"The temp is 78 degrees Farenheit, which is 25.56 degrees Celcius. I'm just grateful that it's summer.\""
   ]
  },
  {
   "cell_type": "code",
   "execution_count": null,
   "metadata": {},
   "outputs": [],
   "source": [
    "regtemp = 78\n",
    "celcius = (78 - 32) * .5556\n",
    "season = \"summer\" \n",
    "\n",
    "\"The temp is {} degrees Farenheit, which is {} degrees Celcius. I'm just grateful that it's {}.\".format(\n",
    "    regtemp, celcius, season)\n"
   ]
  },
  {
   "cell_type": "code",
   "execution_count": null,
   "metadata": {},
   "outputs": [],
   "source": [
    "f\"The temp is {regtemp} degrees Farenheit, which is {celcius} degrees Celcius. I'm just grateful that it's {season}.\""
   ]
  },
  {
   "cell_type": "markdown",
   "metadata": {},
   "source": [
    "5/10"
   ]
  },
  {
   "cell_type": "markdown",
   "metadata": {},
   "source": [
    "### 2. (10 Points) Strings to Lists\n",
    "\n",
    "Write a program that splits the note below into a list of letters and then replaces all the a's with o's. Rejoin the letters into a sentence and print it.  \n",
    "\n",
    "#### Expected Result >>> \n",
    "How mony o's ore in this sentence ond con we moke sure to reploce them with o's?"
   ]
  },
  {
   "cell_type": "code",
   "execution_count": null,
   "metadata": {},
   "outputs": [],
   "source": [
    "note = \"How many a's are in this sentence and can we make sure to replace them with o's?\""
   ]
  },
  {
   "cell_type": "code",
   "execution_count": null,
   "metadata": {},
   "outputs": [],
   "source": [
    "olist = list(note)\n",
    "list1=[]\n",
    "\n",
    "for olist in olist:\n",
    "    new = olist.replace(\"a\", \"o\")\n",
    "    list1.append(new)\n",
    "    \n",
    "print(\"\".join(list1))"
   ]
  },
  {
   "cell_type": "markdown",
   "metadata": {},
   "source": [
    "10/10"
   ]
  },
  {
   "cell_type": "markdown",
   "metadata": {},
   "source": [
    "### 3. (10 Points) String Operations & List Comprehension\n",
    "Split the string below into a list of the words and then write a list comprehension that rejoins the words in \n",
    "upper case with a 👏 in between them. (if the emoji doesn't work use a '!' instead) Print it out. \n",
    "\n",
    "#### Expected Result >>> \n",
    "I 👏 AM 👏 GETTING 👏 SO 👏 MUCH 👏 BETTER 👏 AT 👏 PYTHON."
   ]
  },
  {
   "cell_type": "code",
   "execution_count": 1,
   "metadata": {},
   "outputs": [
    {
     "data": {
      "text/plain": [
       "'I👏AM👏GETTING👏SO👏MUCH👏BETTER👏AT👏PYTHON.'"
      ]
     },
     "execution_count": 1,
     "metadata": {},
     "output_type": "execute_result"
    }
   ],
   "source": [
    "statement = \"I am getting so much better at python.\"\n",
    "\n",
    "## list comp goes here\n",
    "split = statement.split()\n",
    "## print statement here\n",
    "(\"👏\".join(split)).upper()\n"
   ]
  },
  {
   "cell_type": "markdown",
   "metadata": {},
   "source": [
    "5/10 Needed to use list comprehension"
   ]
  },
  {
   "cell_type": "code",
   "execution_count": 2,
   "metadata": {},
   "outputs": [
    {
     "name": "stdout",
     "output_type": "stream",
     "text": [
      "I 👏 AM 👏 GETTING 👏 SO 👏 MUCH 👏 BETTER 👏 AT 👏 PYTHON.\n"
     ]
    }
   ],
   "source": [
    "# Example\n",
    "\n",
    "statement1 = statement.split()\n",
    "joined = ' 👏 '.join([word.upper() for word in statement1])\n",
    "print(joined)"
   ]
  },
  {
   "cell_type": "markdown",
   "metadata": {},
   "source": [
    "### 4. (10 Points) While Loops\n",
    "Write a while loop that while the count below is less than the length of the word you input in the input call below, it prints out each character of the word. \n",
    "\n",
    "After the loop executes, print \"What's that spell?\" + your word. \n",
    "\n",
    "#### Expected output in your print console >>>\n",
    "Ex. if the input word was 'hello': \n",
    "\n",
    "h \n",
    "\n",
    "e\n",
    "\n",
    "l\n",
    "\n",
    "l\n",
    "\n",
    "o\n",
    "\n",
    "What's that spell? Hello"
   ]
  },
  {
   "cell_type": "code",
   "execution_count": 3,
   "metadata": {},
   "outputs": [
    {
     "name": "stdout",
     "output_type": "stream",
     "text": [
      "Enter a word: string\n",
      "s\n",
      "t\n",
      "r\n",
      "i\n",
      "n\n",
      "g\n",
      "What's that spell? string\n"
     ]
    }
   ],
   "source": [
    "word = input(\"Enter a word: \")\n",
    "\n",
    "count = 2\n",
    "\n",
    "## while loop goes here\n",
    "index = 0\n",
    "\n",
    "while count < len(word):\n",
    "    list(word)\n",
    "    print(word[index])\n",
    "    index += 1\n",
    "    if len(word) == index:\n",
    "        break\n",
    "    \n",
    "## print statment here\n",
    "print(\"What's that spell? \" + word)"
   ]
  },
  {
   "cell_type": "markdown",
   "metadata": {},
   "source": [
    "10/10"
   ]
  },
  {
   "cell_type": "markdown",
   "metadata": {},
   "source": [
    "### 5. (5 Points) While Loops to For Loops\n",
    "\n",
    "Rewrite the while loop above as a for loop (even if you didn't get the loop above, try to create the same expected output with a for loop)"
   ]
  },
  {
   "cell_type": "code",
   "execution_count": 4,
   "metadata": {},
   "outputs": [
    {
     "name": "stdout",
     "output_type": "stream",
     "text": [
      "Enter a word: string\n",
      "s\n",
      "t\n",
      "r\n",
      "i\n",
      "n\n",
      "g\n",
      "What's that spell? string\n"
     ]
    }
   ],
   "source": [
    "word = input(\"Enter a word: \")\n",
    "\n",
    "## for loop goes here\n",
    "for x in word:\n",
    "    print(x)\n",
    "## print statment here\n",
    "print(\"What's that spell? \" + word)"
   ]
  },
  {
   "cell_type": "markdown",
   "metadata": {},
   "source": [
    "10/10"
   ]
  },
  {
   "cell_type": "markdown",
   "metadata": {},
   "source": [
    "### 6. (10 Points) Dictionaries & Lists\n",
    "Create a dictionary from the 2 lists below (a few ways to do this!). Then remove the duplicate value from the dictionary.\n",
    "\n",
    "#### Expected output >>> \n",
    "\n",
    "{'a': 10, 'b': 20, 'c': 30, 'e': 50}"
   ]
  },
  {
   "cell_type": "code",
   "execution_count": 6,
   "metadata": {},
   "outputs": [
    {
     "name": "stdout",
     "output_type": "stream",
     "text": [
      "{'a': 10, 'b': 20, 'c': 30, 'd': 50}\n"
     ]
    }
   ],
   "source": [
    "list1 = ['a', 'b', 'c', 'd', 'e']\n",
    "list2 = [10, 20, 30, 30, 50]\n",
    "\n",
    "list3 = list(set(list2))\n",
    "list4 = sorted(list3)\n",
    "Dictionary1= dict(zip(list1,list4))\n",
    "print(Dictionary1)\n"
   ]
  },
  {
   "cell_type": "markdown",
   "metadata": {},
   "source": [
    "5/10 Incorrect output"
   ]
  },
  {
   "cell_type": "code",
   "execution_count": 7,
   "metadata": {},
   "outputs": [
    {
     "name": "stdout",
     "output_type": "stream",
     "text": [
      "{'a': 10, 'b': 20, 'c': 30, 'd': 30, 'e': 50}\n"
     ]
    },
    {
     "data": {
      "text/plain": [
       "{'a': 10, 'b': 20, 'c': 30, 'e': 50}"
      ]
     },
     "execution_count": 7,
     "metadata": {},
     "output_type": "execute_result"
    }
   ],
   "source": [
    "# Example\n",
    "\n",
    "list1 = ['a', 'b', 'c', 'd', 'e']\n",
    "list2 = [10, 20, 30, 30, 50]\n",
    "\n",
    "\n",
    "dict1 = {}\n",
    "for L1 in list1:\n",
    "    for L2 in list2:\n",
    "        dict1[L1] = L2\n",
    "        list2.remove(L2)\n",
    "        break \n",
    "\n",
    "print(dict1)\n",
    "\n",
    "# Remove duplicate values in dictionary\n",
    "# Using loop\n",
    "temp = []\n",
    "res = {}\n",
    "for key, val in dict1.items():\n",
    "    if val not in temp:\n",
    "        temp.append(val)\n",
    "        res[key] = val\n",
    "res"
   ]
  },
  {
   "cell_type": "markdown",
   "metadata": {},
   "source": [
    "### 7. Dictionaries & Strings (2 Parts)\n",
    "__Part 1 (5 Points):__ Take the string below and do the following: \n",
    "* split it into a list of words\n",
    "* strip out any punctuation"
   ]
  },
  {
   "cell_type": "code",
   "execution_count": null,
   "metadata": {},
   "outputs": [],
   "source": [
    "#e.e. cummings\n",
    "cummings = '''it may not always be so; and i say\n",
    "that if your lips, which i have loved, should touch\n",
    "another’s, and your dear strong fingers clutch\n",
    "his heart, as mine in time not far away;\n",
    "if on another’s face your sweet hair lay\n",
    "in such silence as i know, or such\n",
    "great writhing words as, uttering overmuch,\n",
    "stand helplessly before the spirit at bay;\n",
    "\n",
    "if this should be, i say if this should be—\n",
    "you of my heart, send me a little word;\n",
    "that i may go unto him, and take his hands,\n",
    "saying, Accept all happiness from me.\n",
    "Then shall i turn my face, and hear one bird\n",
    "sing terribly afar in the lost lands'''"
   ]
  },
  {
   "cell_type": "code",
   "execution_count": 102,
   "metadata": {
    "scrolled": true
   },
   "outputs": [
    {
     "name": "stdout",
     "output_type": "stream",
     "text": [
      "['it', 'may', 'not', 'always', 'be', 'so', 'and', 'i', 'say', 'that', 'if', 'your', 'lips', 'which', 'i', 'have', 'loved', 'should', 'touch', 'anothers', 'and', 'your', 'dear', 'strong', 'fingers', 'clutch', 'his', 'heart', 'as', 'mine', 'in', 'time', 'not', 'far', 'away', 'if', 'on', 'anothers', 'face', 'your', 'sweet', 'hair', 'lay', 'in', 'such', 'silence', 'as', 'i', 'know', 'or', 'such', 'great', 'writhing', 'words', 'as', 'uttering', 'overmuch', 'stand', 'helplessly', 'before', 'the', 'spirit', 'at', 'bay', 'if', 'this', 'should', 'be', 'i', 'say', 'if', 'this', 'should', 'be', 'you', 'of', 'my', 'heart', 'send', 'me', 'a', 'little', 'word', 'that', 'i', 'may', 'go', 'unto', 'him', 'and', 'take', 'his', 'hands', 'saying', 'Accept', 'all', 'happiness', 'from', 'me', 'Then', 'shall', 'i', 'turn', 'my', 'face', 'and', 'hear', 'one', 'bird', 'sing', 'terribly', 'afar', 'in', 'the', 'lost', 'lands']\n"
     ]
    }
   ],
   "source": [
    "import re\n",
    "noperiods = re.sub(r'[^\\w\\s]', '', cummings)\n",
    "cumminglist = noperiods.split()\n",
    "print(cumminglist)"
   ]
  },
  {
   "cell_type": "markdown",
   "metadata": {},
   "source": [
    "5/5"
   ]
  },
  {
   "cell_type": "markdown",
   "metadata": {},
   "source": [
    "__Part 2 (10 Points):__ Write a function that counts the occurences of the word in the list of words from the poem and saves them in a Dictionary with the word as the key and the frequency as the value. (Don't use Counter for this one) Run function on the poem above and print the results.\n",
    "\n",
    "#### Sample expected output>>> \n",
    "{'it': 1,\n",
    " 'may': 2,\n",
    " 'not': 2,"
   ]
  },
  {
   "cell_type": "code",
   "execution_count": 111,
   "metadata": {
    "scrolled": true
   },
   "outputs": [
    {
     "name": "stdout",
     "output_type": "stream",
     "text": [
      "{'it': 1, 'may': 2, 'not': 2, 'always': 1, 'be': 3, 'so': 1, 'and': 4, 'i': 6, 'say': 2, 'that': 2, 'if': 4, 'your': 3, 'lips': 1, 'which': 1, 'have': 1, 'loved': 1, 'should': 3, 'touch': 1, 'anothers': 2, 'dear': 1, 'strong': 1, 'fingers': 1, 'clutch': 1, 'his': 2, 'heart': 2, 'as': 3, 'mine': 1, 'in': 3, 'time': 1, 'far': 1, 'away': 1, 'on': 1, 'face': 2, 'sweet': 1, 'hair': 1, 'lay': 1, 'such': 2, 'silence': 1, 'know': 1, 'or': 1, 'great': 1, 'writhing': 1, 'words': 1, 'uttering': 1, 'overmuch': 1, 'stand': 1, 'helplessly': 1, 'before': 1, 'the': 2, 'spirit': 1, 'at': 1, 'bay': 1, 'this': 2, 'you': 1, 'of': 1, 'my': 2, 'send': 1, 'me': 2, 'a': 1, 'little': 1, 'word': 1, 'go': 1, 'unto': 1, 'him': 1, 'take': 1, 'hands': 1, 'saying': 1, 'Accept': 1, 'all': 1, 'happiness': 1, 'from': 1, 'Then': 1, 'shall': 1, 'turn': 1, 'hear': 1, 'one': 1, 'bird': 1, 'sing': 1, 'terribly': 1, 'afar': 1, 'lost': 1, 'lands': 1}\n"
     ]
    }
   ],
   "source": [
    "word_dict = {}\n",
    "for word in cumminglist:\n",
    "    if word in word_dict:\n",
    "        word_dict[word]+=1\n",
    "    else:\n",
    "        word_dict[word]=1\n",
    "        \n",
    "print(word_dict)"
   ]
  },
  {
   "cell_type": "markdown",
   "metadata": {},
   "source": [
    "10/10"
   ]
  },
  {
   "cell_type": "markdown",
   "metadata": {},
   "source": [
    "### 8. (10 Points) Making Code More Efficient with Default Dict & Counter\n",
    "\n",
    "__Part 1 (5 points):__ The code below adds each word in the note below as a key with its frequency count as the value in a dictionary. Rewrite the code using defaultdict. Print your dictionary."
   ]
  },
  {
   "cell_type": "code",
   "execution_count": null,
   "metadata": {},
   "outputs": [],
   "source": [
    "note ='''We are going to use this note to test out writing better code and instead of having five lines in the for loop we can reduce to three with cool python libraries !'''\n",
    "\n",
    "word_dict = {}\n",
    "for word in note.split(\" \"):\n",
    "    print(word)\n",
    "    if word in word_dict:\n",
    "        word_dict[word]+=1\n",
    "    else:\n",
    "        word_dict[word]=1\n",
    "        \n",
    "print(word_dict)"
   ]
  },
  {
   "cell_type": "code",
   "execution_count": 114,
   "metadata": {
    "scrolled": true
   },
   "outputs": [
    {
     "name": "stdout",
     "output_type": "stream",
     "text": [
      "defaultdict(<class 'int'>, {'We': 1, 'are': 1, 'going': 1, 'to': 3, 'use': 1, 'this': 1, 'note': 1, 'test': 1, 'out': 1, 'writing': 1, 'better': 1, 'code': 1, 'and': 1, 'instead': 1, 'of': 1, 'having': 1, 'five': 1, 'lines': 1, 'in': 1, 'the': 1, 'for': 1, 'loop': 1, 'we': 1, 'can': 1, 'reduce': 1, 'three': 1, 'with': 1, 'cool': 1, 'python': 1, 'libraries': 1, '!': 1})\n"
     ]
    }
   ],
   "source": [
    "from collections import defaultdict\n",
    "ddict = defaultdict(int)\n",
    "for word in note.split(\" \"):\n",
    "    if word in ddict:\n",
    "        ddict[word] += 1\n",
    "    else:\n",
    "        ddict[word] = 1\n",
    "        \n",
    "print(ddict)"
   ]
  },
  {
   "cell_type": "markdown",
   "metadata": {},
   "source": [
    "5/5"
   ]
  },
  {
   "cell_type": "markdown",
   "metadata": {},
   "source": [
    "__Part 2 (5 points):__ Rewrite the original code but this time using Counter to produce the same result.\n",
    "        Print out most the common word in the dictionary. "
   ]
  },
  {
   "cell_type": "code",
   "execution_count": 119,
   "metadata": {
    "scrolled": true
   },
   "outputs": [
    {
     "name": "stdout",
     "output_type": "stream",
     "text": [
      "Counter({'to': 3, 'We': 1, 'are': 1, 'going': 1, 'use': 1, 'this': 1, 'note': 1, 'test': 1, 'out': 1, 'writing': 1, 'better': 1, 'code': 1, 'and': 1, 'instead': 1, 'of': 1, 'having': 1, 'five': 1, 'lines': 1, 'in': 1, 'the': 1, 'for': 1, 'loop': 1, 'we': 1, 'can': 1, 'reduce': 1, 'three': 1, 'with': 1, 'cool': 1, 'python': 1, 'libraries': 1, '!': 1})\n"
     ]
    }
   ],
   "source": [
    "from collections import Counter\n",
    "\n",
    "counterdict = Counter(note.split())\n",
    "print(counterdict)"
   ]
  },
  {
   "cell_type": "markdown",
   "metadata": {},
   "source": [
    "2.5/5 Needed to print out the most common word."
   ]
  },
  {
   "cell_type": "markdown",
   "metadata": {},
   "source": [
    "### 9. (10 Points) Default Dict & Nested Lists\n",
    "\n",
    "Use DefaultDict to iterate over the nested list below and add each repeating first element (e.g. 'spice', 'nut') \n",
    "as the key with the second element as a list of the values. Print the dictionary. \n",
    "\n",
    "#### Expected Result >>> \n",
    "defaultdict(<class 'list'>, {'spice': ['cumin', 'cinnamon', 'curry'], 'nut': ['almond', 'pecan', 'cashew']})"
   ]
  },
  {
   "cell_type": "code",
   "execution_count": 121,
   "metadata": {},
   "outputs": [],
   "source": [
    "foodList = [('spice', 'cumin'), ('spice', 'cinnamon'), ('spice', 'curry'), ('nut', 'almond'), \n",
    "     ('nut', 'pecan'),('nut','cashew')]"
   ]
  },
  {
   "cell_type": "code",
   "execution_count": 126,
   "metadata": {},
   "outputs": [
    {
     "name": "stdout",
     "output_type": "stream",
     "text": [
      "defaultdict(<class 'list'>, {'spice': ['cumin', 'cinnamon', 'curry'], 'nut': ['almond', 'pecan', 'cashew']})\n"
     ]
    }
   ],
   "source": [
    "from collections import defaultdict\n",
    "fooddict = defaultdict(list)\n",
    "for x, y in foodList:\n",
    "    fooddict[x].append(y)\n",
    "print(fooddict)"
   ]
  },
  {
   "cell_type": "markdown",
   "metadata": {},
   "source": [
    "10/10"
   ]
  },
  {
   "cell_type": "markdown",
   "metadata": {},
   "source": [
    "### 10. (10 Points) Dictionaries, Loops & Strings\n",
    "\n",
    "Given the list of names below, create a dictionary that uses the first letter of the name as the key,\n",
    "and the full name as the value/list of values. Print out your dictionary. \n",
    "\n",
    "Expected Output >>> \n",
    "{'m': ['mary'], 's': ['sal', 'sarah']}"
   ]
  },
  {
   "cell_type": "code",
   "execution_count": 128,
   "metadata": {},
   "outputs": [],
   "source": [
    "names = ['molly', 'sal', 'sarah']"
   ]
  },
  {
   "cell_type": "code",
   "execution_count": 243,
   "metadata": {},
   "outputs": [
    {
     "data": {
      "text/plain": [
       "{'m': 'molly', 's': \"['sal', 'sarah']\"}"
      ]
     },
     "execution_count": 243,
     "metadata": {},
     "output_type": "execute_result"
    }
   ],
   "source": [
    "d1 = dict.fromkeys(firstletter,names)\n",
    "firstletter = []\n",
    "newnames = []\n",
    "x = 0\n",
    "while len(firstletter) < len(names):\n",
    "    firstletter.append(names[x][0])\n",
    "    x =+ 1\n",
    "    d1 = dict.fromkeys(d1,names)\n",
    "\n",
    "d1['m'] = str(d1['m'][0])\n",
    "d1['s'] = str(d1['s'][1:3])\n",
    "d1"
   ]
  },
  {
   "cell_type": "markdown",
   "metadata": {},
   "source": [
    "10/10"
   ]
  }
 ],
 "metadata": {
  "kernelspec": {
   "display_name": "Python 3",
   "language": "python",
   "name": "python3"
  },
  "language_info": {
   "codemirror_mode": {
    "name": "ipython",
    "version": 3
   },
   "file_extension": ".py",
   "mimetype": "text/x-python",
   "name": "python",
   "nbconvert_exporter": "python",
   "pygments_lexer": "ipython3",
   "version": "3.8.5"
  }
 },
 "nbformat": 4,
 "nbformat_minor": 4
}
