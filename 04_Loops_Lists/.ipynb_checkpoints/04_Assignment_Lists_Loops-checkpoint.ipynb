{
 "cells": [
  {
   "cell_type": "markdown",
   "metadata": {},
   "source": [
    "# Week 4 Assignment"
   ]
  },
  {
   "cell_type": "markdown",
   "metadata": {},
   "source": [
    "This week test some list commands, try out loops, and combine them all into functions! \n"
   ]
  },
  {
   "cell_type": "markdown",
   "metadata": {},
   "source": [
    "Total Points: 100"
   ]
  },
  {
   "cell_type": "markdown",
   "metadata": {},
   "source": [
    "### 1. (10 pts) Basic List Commands"
   ]
  },
  {
   "cell_type": "markdown",
   "metadata": {},
   "source": [
    "Let's just ease in with some list commands."
   ]
  },
  {
   "cell_type": "code",
   "execution_count": 39,
   "metadata": {},
   "outputs": [],
   "source": [
    "## From the list of state abbreviations write code that does the the following:\n",
    "## 1) Change MT into MO\n",
    "## 2) Sort the list in alphabetical order using both the sort method and built-in function \n",
    "## 3) What is the difference between the two? (i.e. what is the output)\n",
    "## 4) Add the following list of states to the end of the list in one call: [\"OR\", \"FL\", \"HI\"]\n",
    "      # expected output of the print statement: [\"AK\", \"CA\", \"WA\", \"AZ\", \"MT\", \"CO\", \"NV\", \"MA\", \"SD\", \"OR\", \"FL\", \"HI\"]\n",
    "\n",
    "states = [\"AK\", \"CA\", \"WA\", \"AZ\", \"MT\", \"CO\", \"NV\", \"MA\", \"SD\"]\n"
   ]
  },
  {
   "cell_type": "code",
   "execution_count": 22,
   "metadata": {},
   "outputs": [
    {
     "data": {
      "text/plain": [
       "['AK', 'CA', 'WA', 'AZ', 'MO', 'CO', 'NV', 'MA', 'SD']"
      ]
     },
     "execution_count": 22,
     "metadata": {},
     "output_type": "execute_result"
    }
   ],
   "source": [
    "states[4] = \"MO\"\n",
    "states"
   ]
  },
  {
   "cell_type": "code",
   "execution_count": 23,
   "metadata": {},
   "outputs": [
    {
     "data": {
      "text/plain": [
       "['AK', 'AZ', 'CA', 'CO', 'MA', 'MO', 'NV', 'SD', 'WA']"
      ]
     },
     "execution_count": 23,
     "metadata": {},
     "output_type": "execute_result"
    }
   ],
   "source": [
    "states.sort()\n",
    "sorted(states)\n",
    "states"
   ]
  },
  {
   "cell_type": "code",
   "execution_count": 24,
   "metadata": {},
   "outputs": [
    {
     "data": {
      "text/plain": [
       "'sorted() is a built in function of python. You can create a new sorted list using this function but it will not modify the original list'"
      ]
     },
     "execution_count": 24,
     "metadata": {},
     "output_type": "execute_result"
    }
   ],
   "source": [
    "\"states.sort() will modify the list. Methods are associated with objects/class and modify that object/class.\"\n",
    "\"sorted() is a built in function of python. You can create a new sorted list using this function but it will not modify the original list\""
   ]
  },
  {
   "cell_type": "code",
   "execution_count": 40,
   "metadata": {
    "scrolled": true
   },
   "outputs": [
    {
     "name": "stdout",
     "output_type": "stream",
     "text": [
      "['AK', 'CA', 'WA', 'AZ', 'MT', 'CO', 'NV', 'MA', 'SD', 'OR', 'FL', 'HI']\n"
     ]
    }
   ],
   "source": [
    "states.extend((\"OR\", \"FL\", \"HI\"))\n",
    "print(states)"
   ]
  },
  {
   "cell_type": "markdown",
   "metadata": {},
   "source": [
    "10/10"
   ]
  },
  {
   "cell_type": "markdown",
   "metadata": {},
   "source": [
    "### 2. (10 Points) Counting Repeating Items in a List"
   ]
  },
  {
   "cell_type": "markdown",
   "metadata": {},
   "source": [
    "Below is a list of names. You want to know how many people have the same name. Write a program that counts how many of each name appear in the list. (Hint: There is a list operation to do this one name at a time, but the Collections library has a pretty cool Counter tool you might want to try.)"
   ]
  },
  {
   "cell_type": "code",
   "execution_count": 18,
   "metadata": {},
   "outputs": [],
   "source": [
    "names = ['John', 'Jordan', 'Joseph', 'Jake', 'Jared', 'John', 'Jake', 'Jude', 'Jace', 'John']"
   ]
  },
  {
   "cell_type": "markdown",
   "metadata": {},
   "source": [
    "0/10 "
   ]
  },
  {
   "cell_type": "code",
   "execution_count": 1,
   "metadata": {},
   "outputs": [
    {
     "name": "stdout",
     "output_type": "stream",
     "text": [
      "Counter({'John': 3, 'Jake': 2, 'Jordan': 1, 'Joseph': 1, 'Jared': 1, 'Jude': 1, 'Jace': 1})\n"
     ]
    }
   ],
   "source": [
    "# Example Solution \n",
    "\n",
    "from collections import Counter\n",
    "\n",
    "names = ['John', 'Jordan', 'Joseph', 'Jake', 'Jared', 'John', 'Jake', 'Jude', 'Jace', 'John']\n",
    "print(Counter(names))"
   ]
  },
  {
   "cell_type": "markdown",
   "metadata": {},
   "source": [
    "### 3. (10 Points) While Loop Troubleshooting"
   ]
  },
  {
   "cell_type": "markdown",
   "metadata": {},
   "source": [
    "1) What is the issue with the code below? \n",
    "\n",
    "2) Write the additional line or lines of code that would correct it. "
   ]
  },
  {
   "cell_type": "code",
   "execution_count": null,
   "metadata": {
    "scrolled": true
   },
   "outputs": [],
   "source": [
    "\"Zero will always be less than 10 so the function will print number, is  less than 10 infinite times.\"\n",
    "\"Another issue is that numbers 6 through 9 will print is less than 10 but not print is not less than 5. Both are true so the function should print both.\"\n",
    "\n",
    "\n",
    "number = 0\n",
    "\n",
    "while number < 10:\n",
    "    print(number, \" is  less than 10\")\n",
    "else:\n",
    "    print(number, \" is not less than 5\")"
   ]
  },
  {
   "cell_type": "code",
   "execution_count": 55,
   "metadata": {
    "scrolled": true
   },
   "outputs": [
    {
     "name": "stdout",
     "output_type": "stream",
     "text": [
      "11  is not less than 5\n"
     ]
    }
   ],
   "source": [
    "number = 11\n",
    "while number < 10:\n",
    "    print(number, \" is  less than 10\")\n",
    "    break\n",
    "while number > 5:\n",
    "    print(number, \" is not less than 5\")\n",
    "    break\n"
   ]
  },
  {
   "cell_type": "markdown",
   "metadata": {},
   "source": [
    "10/10"
   ]
  },
  {
   "cell_type": "markdown",
   "metadata": {},
   "source": [
    "### 4. (10 Points) Using Lists & Conditionals in a Function"
   ]
  },
  {
   "cell_type": "markdown",
   "metadata": {},
   "source": [
    "Define a function that checks if a country has been visited based on its existance in the list below.\n",
    "\n",
    "#### Expected output for this problem:\n",
    "\n",
    "visited('Germany', countries) >>>> \"You have visited Germany!\""
   ]
  },
  {
   "cell_type": "code",
   "execution_count": 65,
   "metadata": {},
   "outputs": [
    {
     "name": "stdout",
     "output_type": "stream",
     "text": [
      "You haven't visited USA. :(\n"
     ]
    }
   ],
   "source": [
    "countries = ['Germany', 'Scotland', 'Brazil', 'Japan', 'Egypt']\n",
    "\n",
    "def visited(x, countries):\n",
    "    if x in countries:\n",
    "        print(\"You have visited \" + x)\n",
    "    else:\n",
    "        print(\"You haven't visited \" + x + \". :(\")\n",
    "\n",
    "visited('USA', countries)\n",
    "    "
   ]
  },
  {
   "cell_type": "markdown",
   "metadata": {},
   "source": [
    "10/10"
   ]
  },
  {
   "cell_type": "markdown",
   "metadata": {},
   "source": [
    "### 5. (10 pts) List Iteration with a Loop"
   ]
  },
  {
   "cell_type": "markdown",
   "metadata": {},
   "source": [
    "Given the list of numbers below, write a for loop that:\n",
    "\n",
    "    1) Continues if the index = 0\n",
    "    2) Checks if the number is divisible by its index with no remainder\n",
    "    3) If the statement above is true, adds the number to a new list\n",
    "    \n",
    "Please print out your list.\n",
    "\n",
    "#### Expected output for this problem: \n",
    "print(divisor_list) >>> [16, 50, 70]"
   ]
  },
  {
   "cell_type": "code",
   "execution_count": 68,
   "metadata": {
    "scrolled": true
   },
   "outputs": [
    {
     "name": "stdout",
     "output_type": "stream",
     "text": [
      "[16, 50, 70]\n"
     ]
    }
   ],
   "source": [
    "listNums = [0,16,25,34,35,50,55,70]\n",
    "\n",
    "## Loop Here\n",
    "list1=[] \n",
    "\n",
    "for Y in range(len(listNums)):\n",
    "    if Y==0:\n",
    "        continue\n",
    "    \n",
    "    if listNums[Y]%Y==0:\n",
    "        list1.append(listNums[Y])\n",
    "               \n",
    "## Print Statement Here\n",
    "print(list1)"
   ]
  },
  {
   "cell_type": "markdown",
   "metadata": {},
   "source": [
    "10/10"
   ]
  },
  {
   "cell_type": "markdown",
   "metadata": {},
   "source": [
    "### 6. (15 Points) List iteration & list comprehension"
   ]
  },
  {
   "cell_type": "markdown",
   "metadata": {},
   "source": [
    "Two Parts:  \n",
    "\n",
    "1) Iterate over list of emails below and add any gmail address into a list called \"gmail\", the yahoo emails into a list called 'yahoo', and hotmail into a 'hotmail' list. Print out each list. "
   ]
  },
  {
   "cell_type": "code",
   "execution_count": 79,
   "metadata": {},
   "outputs": [
    {
     "name": "stdout",
     "output_type": "stream",
     "text": [
      "['sam@gmail.com', 'james@gmail.com']\n",
      "['sarah@yahoo.com']\n",
      "['emily@hotmail.com']\n"
     ]
    }
   ],
   "source": [
    "emails = [\"sam@gmail.com\", \"sarah@yahoo.com\", \"emily@hotmail.com\", \"james@gmail.com\"]\n",
    "\n",
    "gmail = []\n",
    "yahoo = []\n",
    "hotmail = []\n",
    "other = []\n",
    "\n",
    "for Z in emails:\n",
    "    if \"@gmail.com\" in Z:\n",
    "        gmail.append(Z)\n",
    "    elif \"@yahoo.com\" in Z:\n",
    "        yahoo.append(Z)\n",
    "    elif \"@hotmail.com\" in Z:\n",
    "        hotmail.append(Z)\n",
    "    \n",
    "print(gmail)\n",
    "print(yahoo)\n",
    "print(hotmail)"
   ]
  },
  {
   "cell_type": "markdown",
   "metadata": {},
   "source": [
    "2) Rewrite the for loop above as a list comprehension, but just add any @gmail email into a list called gmail. Print your list out. "
   ]
  },
  {
   "cell_type": "code",
   "execution_count": 82,
   "metadata": {
    "scrolled": true
   },
   "outputs": [
    {
     "name": "stdout",
     "output_type": "stream",
     "text": [
      "['sam@gmail.com', 'james@gmail.com']\n"
     ]
    }
   ],
   "source": [
    "gmail = [email for email in emails if \"@gmail.com\" in email]\n",
    "print(gmail)\n",
    "\n"
   ]
  },
  {
   "cell_type": "markdown",
   "metadata": {},
   "source": [
    "15/15"
   ]
  },
  {
   "cell_type": "markdown",
   "metadata": {},
   "source": [
    "### 7. (10 Points) Rewrite the For Loop as a While Loop"
   ]
  },
  {
   "cell_type": "markdown",
   "metadata": {},
   "source": [
    "Rewrite the for loop below as a while loop."
   ]
  },
  {
   "cell_type": "code",
   "execution_count": 85,
   "metadata": {},
   "outputs": [
    {
     "name": "stdout",
     "output_type": "stream",
     "text": [
      "8\n",
      "9\n",
      "11\n",
      "12\n",
      "13\n",
      "14\n"
     ]
    }
   ],
   "source": [
    "for x in range (8,20):\n",
    "    if (x == 15): \n",
    "        break\n",
    "    elif (x % 5 == 0): \n",
    "            continue\n",
    "    print(x)"
   ]
  },
  {
   "cell_type": "code",
   "execution_count": 95,
   "metadata": {
    "scrolled": true
   },
   "outputs": [
    {
     "name": "stdout",
     "output_type": "stream",
     "text": [
      "9\n",
      "11\n",
      "12\n",
      "13\n",
      "14\n"
     ]
    }
   ],
   "source": [
    "## While loop goes here:\n",
    "x = 8\n",
    "while x in range(8,15):\n",
    "    x = 1 + x\n",
    "    if (x % 5 == 0): \n",
    "            continue\n",
    "    print(x)"
   ]
  },
  {
   "cell_type": "markdown",
   "metadata": {},
   "source": [
    "10/10"
   ]
  },
  {
   "cell_type": "markdown",
   "metadata": {},
   "source": [
    "### 8. (10 Points) Nested Lists & Loops"
   ]
  },
  {
   "cell_type": "markdown",
   "metadata": {},
   "source": [
    "Iterate through the nested list below and add up the elements in each list. Print out the summation of the values after the loop is executed. \n",
    "\n",
    "#### Expected Output >>> 21"
   ]
  },
  {
   "cell_type": "code",
   "execution_count": 97,
   "metadata": {
    "scrolled": true
   },
   "outputs": [
    {
     "name": "stdout",
     "output_type": "stream",
     "text": [
      "21\n"
     ]
    }
   ],
   "source": [
    "list_of_lists = [[1, 2], [3, 4], [5, 6]]\n",
    "\n",
    "## Write Loop Here\n",
    "list2 = sum(sum(x)for x in list_of_lists)\n",
    "## Print Statement Here\n",
    "print(list2)"
   ]
  },
  {
   "cell_type": "markdown",
   "metadata": {},
   "source": [
    "10/10"
   ]
  },
  {
   "cell_type": "markdown",
   "metadata": {},
   "source": [
    "### 9. (15 Points) Nested Loops"
   ]
  },
  {
   "cell_type": "markdown",
   "metadata": {},
   "source": [
    "Below we have a nested list that represents students test scores for tests 1, 2, & 3 in Math 101, with each test's scores broken out into their own list. The course teacher wants to know the average of each test. So you need to write a loop that iterates over the lists and returns the average for each test. Since this is something the teacher may need to do every semester, write it as function. \n",
    "\n",
    "#### Expected Output\n",
    "average_scores(test_scores) >>> [79.25, 86.25, 93.4]"
   ]
  },
  {
   "cell_type": "code",
   "execution_count": 116,
   "metadata": {},
   "outputs": [
    {
     "name": "stdout",
     "output_type": "stream",
     "text": [
      "[79.25, 86.25, 93.4]\n"
     ]
    }
   ],
   "source": [
    "\n",
    "test_scores = [ [ 72, 88, 81, 76],  # test 1\n",
    "[ 82, 89, 84, 90],                  # test 2\n",
    "[ 91, 90, 94, 93, 99]]              # test 3\n",
    "\n",
    "# initialize empty list to store averages in\n",
    "list3 = []\n",
    "\n",
    "# write function here\n",
    "def testscore():\n",
    "    for a in test_scores:\n",
    "        total = len(a)\n",
    "        score = 0\n",
    "        for test in a:\n",
    "            score = score + test\n",
    "        average = score / total\n",
    "        list3.append(average)\n",
    "    print(list3)\n",
    "\n",
    "testscore()\n",
    "  # hint 1: use the length function to get the correct average based on the number of scores for each test\n",
    "  # suggestion: write the for loop and then build the function over it\n"
   ]
  },
  {
   "cell_type": "markdown",
   "metadata": {},
   "source": [
    "15/15"
   ]
  }
 ],
 "metadata": {
  "kernelspec": {
   "display_name": "Python 3",
   "language": "python",
   "name": "python3"
  },
  "language_info": {
   "codemirror_mode": {
    "name": "ipython",
    "version": 3
   },
   "file_extension": ".py",
   "mimetype": "text/x-python",
   "name": "python",
   "nbconvert_exporter": "python",
   "pygments_lexer": "ipython3",
   "version": "3.8.5"
  }
 },
 "nbformat": 4,
 "nbformat_minor": 4
}
