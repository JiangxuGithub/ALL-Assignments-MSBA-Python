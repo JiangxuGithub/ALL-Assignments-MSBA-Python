{
 "cells": [
  {
   "cell_type": "code",
   "execution_count": 9,
   "metadata": {},
   "outputs": [],
   "source": [
    "import os\n"
   ]
  },
  {
   "cell_type": "markdown",
   "metadata": {},
   "source": [
    "### Using the os module\n",
    "\n",
    "This is a great module for working with directories. This way, you don't need to go to the command line and all your work is repeatable"
   ]
  },
  {
   "cell_type": "code",
   "execution_count": null,
   "metadata": {},
   "outputs": [],
   "source": [
    "# how to find you current working directory\n",
    "\n",
    "os.getcwd()"
   ]
  },
  {
   "cell_type": "code",
   "execution_count": null,
   "metadata": {},
   "outputs": [],
   "source": [
    "# let's save it as a variable to use later\n",
    "path = os.getcwd()\n",
    "print(path)"
   ]
  },
  {
   "cell_type": "code",
   "execution_count": null,
   "metadata": {},
   "outputs": [],
   "source": [
    "# how to list out things in directory\n",
    "# can use this without an argument to list the cwd\n",
    "\n",
    "os.listdir(path)"
   ]
  },
  {
   "cell_type": "code",
   "execution_count": null,
   "metadata": {},
   "outputs": [],
   "source": [
    "# list one directory down\n",
    "\n",
    "os.listdir(path+\"/transaction_files\")"
   ]
  },
  {
   "cell_type": "code",
   "execution_count": null,
   "metadata": {},
   "outputs": [],
   "source": [
    "# save this list to access later\n",
    "\n",
    "file_list = os.listdir(path+\"/transaction_files\")\n"
   ]
  },
  {
   "cell_type": "code",
   "execution_count": null,
   "metadata": {},
   "outputs": [],
   "source": [
    "file_list"
   ]
  },
  {
   "cell_type": "code",
   "execution_count": null,
   "metadata": {},
   "outputs": [],
   "source": [
    "# how to list out all files\n",
    "for file_name in file_list:\n",
    "    print(file_name)"
   ]
  },
  {
   "cell_type": "code",
   "execution_count": null,
   "metadata": {},
   "outputs": [],
   "source": [
    "path"
   ]
  },
  {
   "cell_type": "code",
   "execution_count": null,
   "metadata": {},
   "outputs": [],
   "source": [
    "# how to create a new directory if you need somewhere to write files, store things etc.\n",
    "\n",
    "#uses your current working directory \n",
    "\n",
    "#os.mkdir(os.getcwd() + \"/transaction_files/test_folder\")\n",
    "\n",
    "os.mkdir('test_folder')\n",
    "\n",
    "#os.mkdir(path + '/test_folder')\n",
    "\n"
   ]
  },
  {
   "cell_type": "code",
   "execution_count": null,
   "metadata": {},
   "outputs": [],
   "source": [
    "# remove it too\n",
    "\n",
    "os.rmdir('test_folder')"
   ]
  },
  {
   "cell_type": "markdown",
   "metadata": {},
   "source": [
    "### Reading csvs"
   ]
  },
  {
   "cell_type": "code",
   "execution_count": 1,
   "metadata": {},
   "outputs": [],
   "source": [
    "# below is the most basic way to read a file, but it's a bit sloppy\n",
    "\n",
    "input_file = 'file1.csv'"
   ]
  },
  {
   "cell_type": "code",
   "execution_count": 2,
   "metadata": {},
   "outputs": [],
   "source": [
    "in_file = open(\"transaction_files/\" + input_file, 'r')"
   ]
  },
  {
   "cell_type": "code",
   "execution_count": 3,
   "metadata": {},
   "outputs": [
    {
     "data": {
      "text/plain": [
       "'\\ufeffCustomerId,SalesOrderId,TransactionDate,GrandTotal,Status\\n1,36777536,6/1/21,180,fulfilled\\n2,36914274,6/1/21,119.94,fulfilled\\n3,37054577,6/1/21,119.95,returned\\n4,37137392,6/1/21,132.44,fulfilled\\n5,37075736,6/1/21,158.9,fulfilled'"
      ]
     },
     "execution_count": 3,
     "metadata": {},
     "output_type": "execute_result"
    }
   ],
   "source": [
    "in_file.read()"
   ]
  },
  {
   "cell_type": "code",
   "execution_count": 4,
   "metadata": {},
   "outputs": [
    {
     "name": "stdout",
     "output_type": "stream",
     "text": [
      "True\n"
     ]
    }
   ],
   "source": [
    "in_file.close()\n",
    "print(in_file.closed)"
   ]
  },
  {
   "cell_type": "code",
   "execution_count": null,
   "metadata": {},
   "outputs": [],
   "source": [
    "# read inthe whole file\n",
    "# options are w (overwrite or create a new file), r (read in an existing file), a (append to an existing file).\n",
    "\n",
    "input_file = 'file1.csv'\n",
    "\n",
    "with open(\"transaction_files/\" + input_file, 'r') as in_file:\n",
    "    #print(in_file.read())\n",
    "    #print(in_file.readline())\n",
    "    #print(in_file.readlines())"
   ]
  },
  {
   "cell_type": "code",
   "execution_count": null,
   "metadata": {},
   "outputs": [],
   "source": [
    "# think of the data on a line by line basis\n",
    "\n",
    "# using a for loop makes the data easier to work with \n",
    "input_file = 'file1.csv'\n",
    "\n",
    "# reading one line\n",
    "\n",
    "with open(\"transaction_files/\" + input_file, 'r') as in_file:\n",
    "    for line in in_file:\n",
    "        print(line)\n",
    "        #break"
   ]
  },
  {
   "cell_type": "code",
   "execution_count": null,
   "metadata": {},
   "outputs": [],
   "source": [
    "## multiple ways to read a number of lines in a file\n",
    "\n",
    "#reading with counter\n",
    "counter = 0\n",
    "\n",
    "with open(\"transaction_files/\" + input_file, 'r') as in_file:\n",
    "    for line in in_file:\n",
    "        print(line)\n",
    "        counter += 1\n",
    "        \n",
    "        if counter == 2:\n",
    "            break\n",
    "            "
   ]
  },
  {
   "cell_type": "code",
   "execution_count": null,
   "metadata": {},
   "outputs": [],
   "source": [
    "sample_list = ['zero','one','two']\n",
    "\n",
    "for index, item in enumerate(sample_list):\n",
    "    print(index)\n",
    "    print(item)"
   ]
  },
  {
   "cell_type": "code",
   "execution_count": null,
   "metadata": {},
   "outputs": [],
   "source": [
    "# using enumerate \n",
    "# and using next!\n",
    "\n",
    "with open(\"transaction_files/\" + input_file, 'r') as in_file:\n",
    "    next(in_file) \n",
    "    for index, line in enumerate(in_file):\n",
    "        print(index)\n",
    "        print(line)\n",
    "        \n",
    "        if index == 2:\n",
    "            break"
   ]
  },
  {
   "cell_type": "code",
   "execution_count": null,
   "metadata": {},
   "outputs": [],
   "source": [
    "with open(\"transaction_files/\" + input_file, 'r') as in_file:\n",
    "    for index, line in enumerate(in_file):\n",
    "        new_line = line.split(',')\n",
    "        print(new_line)        \n",
    "        if index == 5:\n",
    "            break"
   ]
  },
  {
   "cell_type": "code",
   "execution_count": null,
   "metadata": {},
   "outputs": [],
   "source": [
    "with open(\"transaction_files/\" + input_file, 'r', encoding = 'utf-8-sig') as in_file:\n",
    "    for index, line in enumerate(in_file):\n",
    "        #line = line.strip()\n",
    "        #line = line.split(',')\n",
    "        #line = line.strip().split(',')\n",
    "        line = line.replace('fulfilled', 'complete')\n",
    "        print(line)        \n",
    "        if index == 5:\n",
    "            break"
   ]
  },
  {
   "cell_type": "code",
   "execution_count": 6,
   "metadata": {},
   "outputs": [
    {
     "name": "stdout",
     "output_type": "stream",
     "text": [
      "['CustomerId', 'SalesOrderId', 'TransactionDate', 'GrandTotal', 'Status']\n",
      "['11', '36822901', '6/3/20', '152.43', 'fulfilled']\n",
      "['12', '37144575', '6/3/20', '164.58', 'fulfilled']\n",
      "['13', '38253462', '6/3/20', '164.77', 'fulfilled']\n",
      "['14', '36921738', '6/3/20', '164.93', 'fulfilled']\n",
      "['15', '36760582', '6/3/20', '164.94', 'returned']\n"
     ]
    }
   ],
   "source": [
    "# go to break out\n",
    "all_file_lines = list()\n",
    "\n",
    "input_file = 'file3.csv'\n",
    "with open(\"transaction_files/\" + input_file, 'r', encoding = 'utf-8-sig') as in_file:\n",
    "    for line in in_file:\n",
    "        line = line.replace('/20','/21')\n",
    "        line = line.strip().split(',')\n",
    "        print(line)\n",
    "        all_file_lines.append(line)\n"
   ]
  },
  {
   "cell_type": "code",
   "execution_count": 7,
   "metadata": {},
   "outputs": [
    {
     "data": {
      "text/plain": [
       "[['CustomerId', 'SalesOrderId', 'TransactionDate', 'GrandTotal', 'Status'],\n",
       " ['11', '36822901', '6/3/20', '152.43', 'fulfilled'],\n",
       " ['12', '37144575', '6/3/20', '164.58', 'fulfilled'],\n",
       " ['13', '38253462', '6/3/20', '164.77', 'fulfilled'],\n",
       " ['14', '36921738', '6/3/20', '164.93', 'fulfilled'],\n",
       " ['15', '36760582', '6/3/20', '164.94', 'returned']]"
      ]
     },
     "execution_count": 7,
     "metadata": {},
     "output_type": "execute_result"
    }
   ],
   "source": [
    "all_file_lines"
   ]
  },
  {
   "cell_type": "code",
   "execution_count": 10,
   "metadata": {},
   "outputs": [
    {
     "name": "stdout",
     "output_type": "stream",
     "text": [
      "file1.csv\n",
      "\n",
      "0\n",
      "﻿CustomerId,SalesOrderId,TransactionDate,GrandTotal,Status\n",
      "\n",
      "1\n",
      "1,36777536,6/1/21,180,fulfilled\n",
      "\n",
      "2\n",
      "2,36914274,6/1/21,119.94,fulfilled\n",
      "\n",
      "3\n",
      "3,37054577,6/1/21,119.95,returned\n",
      "\n",
      "4\n",
      "4,37137392,6/1/21,132.44,fulfilled\n",
      "\n",
      "5\n",
      "5,37075736,6/1/21,158.9,fulfilled\n",
      "file2.csv\n",
      "\n",
      "0\n",
      "﻿CustomerId,SalesOrderId,TransactionDate,GrandTotal,Status\n",
      "\n",
      "1\n",
      "6,37044091,6/2/21,199:75,returned\n",
      "\n",
      "2\n",
      "7,37024269,6/2/21,199.8,fulfilled\n",
      "\n",
      "3\n",
      "8,37198317,6/2/21,231.96,fulfilled\n",
      "\n",
      "4\n",
      "9,37089617,6/2/21,134:99,fulfilled\n",
      "\n",
      "5\n",
      "10,36760166,6/2/21,164.99,fulfilled\n",
      "file3.csv\n",
      "\n",
      "0\n",
      "﻿CustomerId,SalesOrderId,TransactionDate,GrandTotal,Status\n",
      "\n",
      "1\n",
      "11,36822901,6/3/20,152.43,fulfilled\n",
      "\n",
      "2\n",
      "12,37144575,6/3/20,164.58,fulfilled\n",
      "\n",
      "3\n",
      "13,38253462,6/3/20,164.77,fulfilled\n",
      "\n",
      "4\n",
      "14,36921738,6/3/20,164.93,fulfilled\n",
      "\n",
      "5\n",
      "15,36760582,6/3/20,164.94,returned\n",
      "file4.csv\n",
      "\n",
      "0\n",
      "﻿CustomerId,SalesOrderId,TransactionDate,GrandTotal,Status\n",
      "\n",
      "1\n",
      "16,37192976,6/4/21,131.94,fulfilled\n",
      "\n",
      "2\n",
      "17,36832159,6/4/21,139.99,fulfilled\n",
      "\n",
      "3\n",
      "18,36880815,6/4/21,124.92,fulfilled\n",
      "\n",
      "4\n",
      "19,36945414,6/4/21,174.97,returned\n",
      "\n",
      "5\n",
      "20,38211108,6/4/21,100.88,fulfilled\n"
     ]
    }
   ],
   "source": [
    "#Looping through files\n",
    "path = os.getcwd()\n",
    "file_list = os.listdir(path+\"/transaction_files\")\n",
    "\n",
    "for file_name in file_list:\n",
    "    if 'csv' in file_name:\n",
    "        print(file_name+ \"\\n\")\n",
    "        input_file = file_name\n",
    "        with open(\"transaction_files/\" + input_file, 'r') as in_file:\n",
    "            for index, line in enumerate(in_file):\n",
    "                print(index)\n",
    "                print(line)\n",
    "                if index > 5:\n",
    "                    break"
   ]
  },
  {
   "cell_type": "code",
   "execution_count": null,
   "metadata": {},
   "outputs": [],
   "source": []
  },
  {
   "cell_type": "markdown",
   "metadata": {},
   "source": [
    "#### A little more cleaning"
   ]
  },
  {
   "cell_type": "code",
   "execution_count": null,
   "metadata": {},
   "outputs": [],
   "source": [
    "# using replace \n",
    "with open('transaction_files/' + input_file, 'r') as in_file:\n",
    "    for line in in_file.readlines():\n",
    "        #line = line.replace()\n",
    "        print(line)"
   ]
  },
  {
   "cell_type": "markdown",
   "metadata": {},
   "source": [
    "### Writing csvs"
   ]
  },
  {
   "cell_type": "code",
   "execution_count": 7,
   "metadata": {},
   "outputs": [],
   "source": [
    "# starting with a header\n",
    "#header = ['CustomerId','SalesOrderHeaderId','TransactionDate','GrandTotal']\n",
    "header = 'CustomerId,SalesOrderId,TransactionDate,GrandTotal'"
   ]
  },
  {
   "cell_type": "code",
   "execution_count": 8,
   "metadata": {},
   "outputs": [],
   "source": [
    "output_file = 'first_write_out.csv'"
   ]
  },
  {
   "cell_type": "code",
   "execution_count": 9,
   "metadata": {},
   "outputs": [],
   "source": [
    "# using 'w' to create a new file\n",
    "# note the use of '\\n' - if we don't use this, we won't write on a new line\n",
    "\n",
    "customer1 = '1, 5324, 2021-06-01, 100'\n",
    "\n",
    "with open(output_file, 'w') as out_file:\n",
    "    out_file.write(header + '\\n')\n",
    "    out_file.write(customer1)\n",
    "    #out_file.write('\\n')\n",
    "        "
   ]
  },
  {
   "cell_type": "code",
   "execution_count": 10,
   "metadata": {},
   "outputs": [],
   "source": [
    "header = ['CustomerId','SalesOrderId','TransactionDate','GrandTotal']\n",
    "customer1 = ['1', '5324', '2021-06-01', '100']\n",
    "with open(output_file, 'w') as out_file:\n",
    "    for item in header:\n",
    "        out_file.write(item + ',')\n",
    "    out_file.write('\\n')\n",
    "    for customer_item in customer1:\n",
    "        out_file.write(customer_item + ',')\n",
    "    #out_file.write(str(header))\n",
    "   # out_file.write('\\n')"
   ]
  },
  {
   "cell_type": "code",
   "execution_count": 11,
   "metadata": {},
   "outputs": [],
   "source": [
    "# writing a list of lists?"
   ]
  },
  {
   "cell_type": "code",
   "execution_count": 12,
   "metadata": {},
   "outputs": [
    {
     "name": "stdout",
     "output_type": "stream",
     "text": [
      "['1', '36777536', '6/1/21', '180', 'fulfilled']\n",
      "['2', '36914274', '6/1/21', '119.94', 'fulfilled']\n",
      "['3', '37054577', '6/1/21', '119.95', 'returned']\n",
      "['4', '37137392', '6/1/21', '132.44', 'fulfilled']\n",
      "['5', '37075736', '6/1/21', '158.9', 'fulfilled']\n"
     ]
    }
   ],
   "source": [
    "all_file_lines = list()\n",
    "with open(\"transaction_files/\" + input_file, 'r', encoding = 'utf-8-sig') as in_file:\n",
    "    next(in_file)\n",
    "    for index, line in enumerate(in_file):\n",
    "        line = line.strip().split(',')\n",
    "        print(line)  \n",
    "        all_file_lines.append(line)"
   ]
  },
  {
   "cell_type": "code",
   "execution_count": 12,
   "metadata": {},
   "outputs": [
    {
     "data": {
      "text/plain": [
       "'file4.csv'"
      ]
     },
     "execution_count": 12,
     "metadata": {},
     "output_type": "execute_result"
    }
   ],
   "source": [
    "input_file"
   ]
  },
  {
   "cell_type": "code",
   "execution_count": 13,
   "metadata": {},
   "outputs": [
    {
     "data": {
      "text/plain": [
       "[['1', '36777536', '6/1/21', '180', 'fulfilled'],\n",
       " ['2', '36914274', '6/1/21', '119.94', 'fulfilled'],\n",
       " ['3', '37054577', '6/1/21', '119.95', 'returned'],\n",
       " ['4', '37137392', '6/1/21', '132.44', 'fulfilled'],\n",
       " ['5', '37075736', '6/1/21', '158.9', 'fulfilled']]"
      ]
     },
     "execution_count": 13,
     "metadata": {},
     "output_type": "execute_result"
    }
   ],
   "source": [
    "all_file_lines"
   ]
  },
  {
   "cell_type": "code",
   "execution_count": 15,
   "metadata": {},
   "outputs": [
    {
     "ename": "ValueError",
     "evalue": "I/O operation on closed file.",
     "output_type": "error",
     "traceback": [
      "\u001b[0;31m---------------------------------------------------------------------------\u001b[0m",
      "\u001b[0;31mValueError\u001b[0m                                Traceback (most recent call last)",
      "\u001b[0;32m<ipython-input-15-7b9cb9f1541e>\u001b[0m in \u001b[0;36m<module>\u001b[0;34m\u001b[0m\n\u001b[1;32m      5\u001b[0m         \u001b[0mout_file\u001b[0m\u001b[0;34m.\u001b[0m\u001b[0mwrite\u001b[0m\u001b[0;34m(\u001b[0m\u001b[0;34m'\\n'\u001b[0m\u001b[0;34m)\u001b[0m\u001b[0;34m\u001b[0m\u001b[0;34m\u001b[0m\u001b[0m\n\u001b[1;32m      6\u001b[0m \u001b[0;34m\u001b[0m\u001b[0m\n\u001b[0;32m----> 7\u001b[0;31m \u001b[0mprint\u001b[0m\u001b[0;34m(\u001b[0m\u001b[0mout_file\u001b[0m\u001b[0;34m.\u001b[0m\u001b[0mreadlines\u001b[0m\u001b[0;34m(\u001b[0m\u001b[0;34m)\u001b[0m\u001b[0;34m)\u001b[0m\u001b[0;34m\u001b[0m\u001b[0;34m\u001b[0m\u001b[0m\n\u001b[0m",
      "\u001b[0;31mValueError\u001b[0m: I/O operation on closed file."
     ]
    }
   ],
   "source": [
    "with open(output_file, 'w') as out_file:\n",
    "    for line in all_file_lines:\n",
    "        for item in line:\n",
    "            out_file.write(item + ',')\n",
    "        out_file.write('\\n')\n",
    "        \n",
    "print(out_file.readlines())"
   ]
  },
  {
   "cell_type": "code",
   "execution_count": null,
   "metadata": {},
   "outputs": [],
   "source": [
    "#their task\n",
    "all_file_lines = [['1', '36777536  ', '6/1/21', '180'],\n",
    " ['2', '36914274  ', '6/1/21', '119.94'],\n",
    " ['3', '37054577  ', '6/1/21', '119.95'],\n",
    " ['4', '37137392  ', '6/1/21', '132.44'],\n",
    " ['5', '37075736  ', '6/1/21', '158.9']]\n",
    "\n",
    "\n",
    "with open(output_file, 'w') as out_file:\n",
    "    for line in all_file_lines:\n",
    "        for item in line:\n",
    "            out_file.write(item + ',')\n",
    "        out_file.write('\\n')"
   ]
  },
  {
   "cell_type": "code",
   "execution_count": null,
   "metadata": {},
   "outputs": [],
   "source": [
    "# breakout"
   ]
  },
  {
   "cell_type": "code",
   "execution_count": null,
   "metadata": {},
   "outputs": [],
   "source": [
    "header = ['CustomerId','SalesOrderHeaderId','TransactionDate','GrandTotal']\n",
    "\n",
    "#their task\n",
    "all_file_lines = [['1', '36777536  ', '6/1/21', '180'],\n",
    " ['2', '36914274  ', '6/1/21', '119.94'],\n",
    " ['3', '37054577  ', '6/1/21', '119.95'],\n",
    " ['4', '37137392  ', '6/1/21', '132.44'],\n",
    " ['5', '37075736  ', '6/1/21', '158.9']]\n",
    "\n",
    "\n",
    "with open(output_file, 'w') as out_file:\n",
    "    for item in header:\n",
    "        out_file.write(item + ',')\n",
    "    out_file.write('\\n')\n",
    "    for line in all_file_lines:\n",
    "        for item in line:\n",
    "            out_file.write(item + ',')\n",
    "        out_file.write('\\n')"
   ]
  },
  {
   "cell_type": "code",
   "execution_count": null,
   "metadata": {},
   "outputs": [],
   "source": [
    "# writing out a dictionary\n",
    "cust_dict = {'CustomerId': '1','SalesOrderId': '36777536', 'TransactionDate':'2021-06-01','GrandTotal': '200'}"
   ]
  },
  {
   "cell_type": "code",
   "execution_count": null,
   "metadata": {},
   "outputs": [],
   "source": [
    "# first step\n",
    "for key in cust_dict:\n",
    "    print(key)\n",
    "    print(cust_dict[key])"
   ]
  },
  {
   "cell_type": "code",
   "execution_count": null,
   "metadata": {},
   "outputs": [],
   "source": [
    "# base python\n",
    "\n",
    "    \n",
    "with open('dictionary_output.csv', 'a') as out_file:\n",
    "    line = []\n",
    "    for key in cust_dict:\n",
    "        line.append(cust_dict[key])\n",
    "        out_file.write(key + ',')\n",
    "    out_file.write('\\n')\n",
    "    for value in line:\n",
    "        out_file.write(value + ',')\n",
    "    out_file.write('\\n')"
   ]
  },
  {
   "cell_type": "code",
   "execution_count": null,
   "metadata": {},
   "outputs": [],
   "source": [
    "header = ['CustomerId','SalesOrderHeaderId','TransactionDate','GrandTotal']\n",
    "\n",
    "\n",
    "all_file_lines = [['1', '36777536  ', '6/1/21', '180'],\n",
    " ['2', '36914274  ', '6/1/21', '119.94'],\n",
    " ['3', '37054577  ', '6/1/21', '119.95'],\n",
    " ['4', '37137392  ', '6/1/21', '132.44'],\n",
    " ['5', '37075736  ', '6/1/21', '158.9']]\n"
   ]
  },
  {
   "cell_type": "code",
   "execution_count": null,
   "metadata": {},
   "outputs": [],
   "source": [
    "with open('output.csv', 'w') as out_file:\n",
    "    for line in all_file_lines:\n",
    "        for item in line:\n",
    "            out_file.write(item +',')\n",
    "        out_file.write('\\n')"
   ]
  },
  {
   "cell_type": "code",
   "execution_count": null,
   "metadata": {},
   "outputs": [],
   "source": [
    "for line in all_file_lines:\n",
    "    for item in line:\n",
    "        print(item)\n",
    "    out_file.write('\\n')"
   ]
  }
 ],
 "metadata": {
  "kernelspec": {
   "display_name": "Python 3",
   "language": "python",
   "name": "python3"
  },
  "language_info": {
   "codemirror_mode": {
    "name": "ipython",
    "version": 3
   },
   "file_extension": ".py",
   "mimetype": "text/x-python",
   "name": "python",
   "nbconvert_exporter": "python",
   "pygments_lexer": "ipython3",
   "version": "3.8.5"
  }
 },
 "nbformat": 4,
 "nbformat_minor": 4
}
