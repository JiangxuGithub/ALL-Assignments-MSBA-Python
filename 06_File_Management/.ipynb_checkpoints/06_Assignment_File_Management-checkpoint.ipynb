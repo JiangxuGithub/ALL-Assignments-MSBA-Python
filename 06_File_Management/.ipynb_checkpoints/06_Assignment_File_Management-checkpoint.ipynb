{
 "cells": [
  {
   "cell_type": "markdown",
   "metadata": {},
   "source": [
    "# Week 6 Assignment \n",
    "For this assignment, we're going to use the same files (in the transaction_files folder) that we used in class. If you missed the lecture, the folder is in github as well as the main slack channel. Please set it up so that that directory is in the same location as the assignment.\n",
    "\n",
    "\n",
    "Total Points: 100"
   ]
  },
  {
   "cell_type": "code",
   "execution_count": 2,
   "metadata": {},
   "outputs": [],
   "source": [
    "import os"
   ]
  },
  {
   "cell_type": "markdown",
   "metadata": {},
   "source": [
    "### 1. (10 pts) Assign a path variable\n",
    "\n",
    "Use the os.getcwd() function to assign the current working directory to a variable named path\n"
   ]
  },
  {
   "cell_type": "code",
   "execution_count": 4,
   "metadata": {},
   "outputs": [
    {
     "data": {
      "text/plain": [
       "'/Users/liamhettinger/Documents/MSBA-Python/06_File_Management'"
      ]
     },
     "execution_count": 4,
     "metadata": {},
     "output_type": "execute_result"
    }
   ],
   "source": [
    "path = os.getcwd()\n",
    "path"
   ]
  },
  {
   "cell_type": "markdown",
   "metadata": {},
   "source": [
    "### 2. (15 pts) Listing Files\n",
    "\n",
    "Use a for loop to print the names of all csvs in the transaction_files directory\n"
   ]
  },
  {
   "cell_type": "code",
   "execution_count": 5,
   "metadata": {},
   "outputs": [
    {
     "name": "stdout",
     "output_type": "stream",
     "text": [
      "file1.csv\n",
      "file2.csv\n",
      "file3.csv\n",
      "file4.csv\n"
     ]
    }
   ],
   "source": [
    "import os\n",
    "\n",
    "file_list = os.listdir(path+\"/transaction_files\")\n",
    "\n",
    "for file in file_list:\n",
    "    if file.endswith(\".csv\"):\n",
    "        print(file)"
   ]
  },
  {
   "cell_type": "markdown",
   "metadata": {},
   "source": [
    "### 3. (15 pts) Using replace()\n",
    "\n",
    "file2.csv has some mistakes in the price - ':' is used instead of '.' \n",
    "Read this file in, use replace to fix the issue, and print all lines"
   ]
  },
  {
   "cell_type": "code",
   "execution_count": 14,
   "metadata": {},
   "outputs": [
    {
     "name": "stdout",
     "output_type": "stream",
     "text": [
      "CustomerId,SalesOrderId,TransactionDate,GrandTotal,Status\n",
      "\n",
      "['6,37044091,6/2/21,199:75,returned\\n', '7,37024269,6/2/21,199.8,fulfilled\\n', '8,37198317,6/2/21,231.96,fulfilled\\n', '9,37089617,6/2/21,134:99,fulfilled\\n', '10,36760166,6/2/21,164.99,fulfilled']\n"
     ]
    }
   ],
   "source": [
    "input_file = 'file2.csv'\n",
    "\n",
    "with open(\"transaction_files/\" + input_file, 'r', encoding = 'utf-8-sig') as in_file:\n",
    "    for line in in_file:\n",
    "        line = line.replace(\":\",\".\")\n",
    "        print(line)\n",
    "        print(in_file.readlines())\n",
    "        \n"
   ]
  },
  {
   "cell_type": "markdown",
   "metadata": {},
   "source": [
    "### 4. (15 pts) Writing out one file\n",
    "\n",
    "Now that we've cleaned up those dates, let's write those lines out to a new file, called updated_file2.csv. You'll have to use strip() and split() to create a list from the file lines. You can either save these as a nested list, or write it all in one code chunk."
   ]
  },
  {
   "cell_type": "code",
   "execution_count": 25,
   "metadata": {},
   "outputs": [],
   "source": [
    "all_file_lines = list()\n",
    "\n",
    "with open(\"transaction_files/\" + input_file, 'r', encoding = 'utf-8-sig') as in_file:\n",
    "    for line in in_file:\n",
    "        line = line.strip().split(',')\n",
    "        all_file_lines.append(line)\n",
    "      "
   ]
  },
  {
   "cell_type": "code",
   "execution_count": 100,
   "metadata": {},
   "outputs": [],
   "source": [
    "with open('updated_file2.csv', 'w') as out_file:\n",
    "    for line in all_file_lines:\n",
    "        for item in line:\n",
    "            out_file.write(item +',')\n",
    "        out_file.write('\\n')"
   ]
  },
  {
   "cell_type": "markdown",
   "metadata": {},
   "source": [
    "### 5. (20 pts) Reading in multiple files \n",
    "\n",
    "Expanding on the loop you wrote in question two, as well as your work in questions 3 and 4, read in all files and print out all lines.\n",
    "\n",
    "If you had trouble creating a list of files before, use this: all_file_list = ['file1.csv','file2.csv', 'file3.csv', 'file4.csv']"
   ]
  },
  {
   "cell_type": "code",
   "execution_count": 55,
   "metadata": {},
   "outputs": [
    {
     "name": "stdout",
     "output_type": "stream",
     "text": [
      "file1.csv\n",
      "\n",
      "﻿CustomerId,SalesOrderId,TransactionDate,GrandTotal,Status\n",
      "\n",
      "1,36777536,6/1/21,180,fulfilled\n",
      "\n",
      "2,36914274,6/1/21,119.94,fulfilled\n",
      "\n",
      "3,37054577,6/1/21,119.95,returned\n",
      "\n",
      "4,37137392,6/1/21,132.44,fulfilled\n",
      "\n",
      "5,37075736,6/1/21,158.9,fulfilled\n",
      "file2.csv\n",
      "\n",
      "﻿CustomerId,SalesOrderId,TransactionDate,GrandTotal,Status\n",
      "\n",
      "6,37044091,6/2/21,199:75,returned\n",
      "\n",
      "7,37024269,6/2/21,199.8,fulfilled\n",
      "\n",
      "8,37198317,6/2/21,231.96,fulfilled\n",
      "\n",
      "9,37089617,6/2/21,134:99,fulfilled\n",
      "\n",
      "10,36760166,6/2/21,164.99,fulfilled\n",
      "file3.csv\n",
      "\n",
      "﻿CustomerId,SalesOrderId,TransactionDate,GrandTotal,Status\n",
      "\n",
      "11,36822901,6/3/20,152.43,fulfilled\n",
      "\n",
      "12,37144575,6/3/20,164.58,fulfilled\n",
      "\n",
      "13,38253462,6/3/20,164.77,fulfilled\n",
      "\n",
      "14,36921738,6/3/20,164.93,fulfilled\n",
      "\n",
      "15,36760582,6/3/20,164.94,returned\n",
      "file4.csv\n",
      "\n",
      "﻿CustomerId,SalesOrderId,TransactionDate,GrandTotal,Status\n",
      "\n",
      "16,37192976,6/4/21,131.94,fulfilled\n",
      "\n",
      "17,36832159,6/4/21,139.99,fulfilled\n",
      "\n",
      "18,36880815,6/4/21,124.92,fulfilled\n",
      "\n",
      "19,36945414,6/4/21,174.97,returned\n",
      "\n",
      "20,38211108,6/4/21,100.88,fulfilled\n"
     ]
    }
   ],
   "source": [
    "for file_name in file_list:\n",
    "    if 'csv' in file_name:\n",
    "        print(file_name+ \"\\n\")\n",
    "        input_file = file_name\n",
    "        with open(\"transaction_files/\" + input_file, 'r') as in_file:\n",
    "            for index, line in enumerate(in_file):\n",
    "                print(line)\n",
    "                "
   ]
  },
  {
   "cell_type": "markdown",
   "metadata": {},
   "source": [
    "### 6. (25 pts) Writing to different files\n",
    "\n",
    "The sales orders in our files have a Status field. Most are marked as 'fulfilled', but some are 'returned'. Let's read in all of the lines from the files and then write them out to two files, 'fulfilled_orders.csv' and 'returned_orders.csv', depending on the status. There are 4 'returned' orders and 16 'fulfilled' orders.\n"
   ]
  },
  {
   "cell_type": "code",
   "execution_count": 122,
   "metadata": {},
   "outputs": [],
   "source": [
    "with open('fulfilled_orders.csv','w') as fullfilled, open('returned.csv','w') as returned:\n",
    "    for file_name in file_list:\n",
    "        if 'csv' in file_name:\n",
    "            input_file = file_name\n",
    "            with open(\"transaction_files/\" + input_file, 'r') as in_file:          \n",
    "                for index, line in enumerate(in_file):\n",
    "                    all_lines = line.strip().split(',')\n",
    "                    \n",
    "                    if all_lines[4] == 'fulfilled':\n",
    "                        fullfilled.write(line.rstrip() +'\\n')\n",
    "\n",
    "                    if all_lines[4] == 'returned':\n",
    "                        returned.write(line.rstrip() +'\\n')\n",
    "                        \n",
    "                "
   ]
  },
  {
   "cell_type": "code",
   "execution_count": null,
   "metadata": {},
   "outputs": [],
   "source": []
  }
 ],
 "metadata": {
  "kernelspec": {
   "display_name": "Python 3",
   "language": "python",
   "name": "python3"
  },
  "language_info": {
   "codemirror_mode": {
    "name": "ipython",
    "version": 3
   },
   "file_extension": ".py",
   "mimetype": "text/x-python",
   "name": "python",
   "nbconvert_exporter": "python",
   "pygments_lexer": "ipython3",
   "version": "3.8.5"
  }
 },
 "nbformat": 4,
 "nbformat_minor": 4
}
