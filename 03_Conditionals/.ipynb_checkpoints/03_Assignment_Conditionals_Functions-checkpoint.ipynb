{
 "cells": [
  {
   "cell_type": "markdown",
   "metadata": {},
   "source": [
    "# Week 3 Assignment \n",
    "This week you'll work through more if statements and build some functions!\n",
    "\n",
    "\n",
    "Total Points: 100"
   ]
  },
  {
   "cell_type": "markdown",
   "metadata": {},
   "source": [
    "### 1. (10 pts) Writing A Simple Function\n",
    "\n",
    "Write a function that tells us what the best band of all time is:\n",
    "\n",
    "###### Example output for this problem\n",
    "\n",
    "def the_best_band(\"Led Zeppelin\") >>> 'The best band to ever exist was Led Zeppelin'"
   ]
  },
  {
   "cell_type": "code",
   "execution_count": 8,
   "metadata": {
    "scrolled": true
   },
   "outputs": [
    {
     "name": "stdout",
     "output_type": "stream",
     "text": [
      "The best band to ever exist was The Beatles\n"
     ]
    }
   ],
   "source": [
    "def the_best_band(band_name):\n",
    "    print(\"The best band to ever exist was \" + band_name)\n",
    "the_best_band(\"The Beatles\")\n",
    "\n"
   ]
  },
  {
   "cell_type": "markdown",
   "metadata": {},
   "source": [
    "10/10"
   ]
  },
  {
   "cell_type": "markdown",
   "metadata": {},
   "source": [
    "### 2. (10 pts) Writing A Function With Two Parameters\n",
    "\n",
    "Write a function that returns the average miles per day you drove on a roadtrip, given total miles and days of the trip. \n",
    "\n",
    "###### Example output for this problem\n",
    "\n",
    "roadtrip(1000, 3) >>> 'You averaged 333 miles/day on your roadtrip'"
   ]
  },
  {
   "cell_type": "code",
   "execution_count": 10,
   "metadata": {},
   "outputs": [
    {
     "data": {
      "text/plain": [
       "33.333333333333336"
      ]
     },
     "execution_count": 10,
     "metadata": {},
     "output_type": "execute_result"
    }
   ],
   "source": [
    "def roadtrip(miles, days):\n",
    "    return miles/days\n",
    "roadtrip(100,3)"
   ]
  },
  {
   "cell_type": "markdown",
   "metadata": {},
   "source": [
    "10/10"
   ]
  },
  {
   "cell_type": "markdown",
   "metadata": {},
   "source": [
    "### 3. (20 pts) Understanding Scope\n",
    "There's an issue with the following function. We're taking the global variable, balance, and adding the value of the variable x to it. Two parts here!\n"
   ]
  },
  {
   "cell_type": "markdown",
   "metadata": {},
   "source": [
    "a. Fix this function so that running the following cell returns the correct balance: 200"
   ]
  },
  {
   "cell_type": "code",
   "execution_count": 12,
   "metadata": {},
   "outputs": [
    {
     "data": {
      "text/plain": [
       "200"
      ]
     },
     "execution_count": 12,
     "metadata": {},
     "output_type": "execute_result"
    }
   ],
   "source": [
    "balance = 100\n",
    "\n",
    "def add_amount(x):\n",
    "    global balance\n",
    "    amount_to_add = x\n",
    "    return balance+amount_to_add\n",
    "    return balance\n",
    "\n",
    "add_amount(100)\n"
   ]
  },
  {
   "cell_type": "markdown",
   "metadata": {},
   "source": [
    "b. Briefly explain in a comment why print(balance) works, while print(amount_to_add) throws an error."
   ]
  },
  {
   "cell_type": "code",
   "execution_count": 13,
   "metadata": {
    "scrolled": true
   },
   "outputs": [
    {
     "name": "stdout",
     "output_type": "stream",
     "text": [
      "balance:\n",
      "100\n",
      "amount_to_add:\n"
     ]
    },
    {
     "ename": "NameError",
     "evalue": "name 'amount_to_add' is not defined",
     "output_type": "error",
     "traceback": [
      "\u001b[0;31m---------------------------------------------------------------------------\u001b[0m",
      "\u001b[0;31mNameError\u001b[0m                                 Traceback (most recent call last)",
      "\u001b[0;32m<ipython-input-13-201f37bb0994>\u001b[0m in \u001b[0;36m<module>\u001b[0;34m\u001b[0m\n\u001b[1;32m      2\u001b[0m \u001b[0mprint\u001b[0m\u001b[0;34m(\u001b[0m\u001b[0mbalance\u001b[0m\u001b[0;34m)\u001b[0m\u001b[0;34m\u001b[0m\u001b[0;34m\u001b[0m\u001b[0m\n\u001b[1;32m      3\u001b[0m \u001b[0mprint\u001b[0m\u001b[0;34m(\u001b[0m\u001b[0;34m\"amount_to_add:\"\u001b[0m\u001b[0;34m)\u001b[0m\u001b[0;34m\u001b[0m\u001b[0;34m\u001b[0m\u001b[0m\n\u001b[0;32m----> 4\u001b[0;31m \u001b[0mprint\u001b[0m\u001b[0;34m(\u001b[0m\u001b[0mamount_to_add\u001b[0m\u001b[0;34m)\u001b[0m\u001b[0;34m\u001b[0m\u001b[0;34m\u001b[0m\u001b[0m\n\u001b[0m\u001b[1;32m      5\u001b[0m \u001b[0;34m\u001b[0m\u001b[0m\n\u001b[1;32m      6\u001b[0m \u001b[0;31m# Answer:\u001b[0m\u001b[0;34m\u001b[0m\u001b[0;34m\u001b[0m\u001b[0;34m\u001b[0m\u001b[0m\n",
      "\u001b[0;31mNameError\u001b[0m: name 'amount_to_add' is not defined"
     ]
    }
   ],
   "source": [
    "print(\"balance:\")\n",
    "print(balance)\n",
    "print(\"amount_to_add:\")\n",
    "print(amount_to_add)\n",
    "\n",
    "# Answer: Balance is in the global enviroment while amount_to_add is in the local enviroment. Local variables can’t be used outside of their function.\n",
    " "
   ]
  },
  {
   "cell_type": "markdown",
   "metadata": {},
   "source": [
    "20/20"
   ]
  },
  {
   "cell_type": "markdown",
   "metadata": {},
   "source": [
    "### 4. (10 pts) Inflation Calculator\n",
    "Given an inflation rate of 2% and a time period of 5 years, write a function that tells us what $100 dollars would be worth today. The formula (which is really just a decreasing compound interest formula) is dollar_value * 1-inflation_rate^years. \n",
    "Hint: The pow() function is often easier to use than ** \n",
    "\n",
    "###### Expected output for this problem is\n",
    "\n",
    "inflation_calculator(100, .02, 5) >>> Your 100 dollars from 5 years ago is worth 90.39"
   ]
  },
  {
   "cell_type": "code",
   "execution_count": 1,
   "metadata": {},
   "outputs": [
    {
     "data": {
      "text/plain": [
       "99.99999968"
      ]
     },
     "execution_count": 1,
     "metadata": {},
     "output_type": "execute_result"
    }
   ],
   "source": [
    "def inflation_calc(x,y,z):\n",
    "    dollar_value = x\n",
    "    inflation_rate = y\n",
    "    years = z\n",
    "    return dollar_value * (1-pow(inflation_rate,years))\n",
    "inflation_calc(100, .02, 5)"
   ]
  },
  {
   "cell_type": "markdown",
   "metadata": {},
   "source": [
    "0/10 math is off"
   ]
  },
  {
   "cell_type": "markdown",
   "metadata": {},
   "source": [
    "### 5. (10 pts) The Work Week\n",
    "\n",
    "Use if and else to write a statement that, given the day of the week in number form, will print whether it is a weekend or a weekday. No need to wrap this in a function! For day inputs use 0 as Sunday, going through 7 as Saturday. \n",
    "\n",
    "###### Example output for this problem is\n",
    "\n",
    "day = 1 >>> \"Weekday\""
   ]
  },
  {
   "cell_type": "code",
   "execution_count": 47,
   "metadata": {},
   "outputs": [
    {
     "name": "stdout",
     "output_type": "stream",
     "text": [
      "Weekday\n"
     ]
    }
   ],
   "source": [
    "def weekend_plz(x):\n",
    "    if x == 0 or x == 7:\n",
    "        print (\"Weekend\")\n",
    "    elif x >= 1 and x <= 6:\n",
    "        print (\"Weekday\")\n",
    "    else:\n",
    "        print(\"invalid\")\n",
    "weekend_plz(4)"
   ]
  },
  {
   "cell_type": "markdown",
   "metadata": {},
   "source": [
    "10/10"
   ]
  },
  {
   "cell_type": "markdown",
   "metadata": {},
   "source": [
    "### 6. (10 pts) Comparing two numbers\n",
    "\n",
    "Define a function using if statements that tells us which number is greater.\n",
    "\n",
    "###### Expected output for this problem is\n",
    "\n",
    "number_comparison(2, 2) >>> Numbers are equal\n",
    "\n",
    "number_comparison(3, 2) >>> First number is greater\n",
    "\n",
    "number_comparison(2, 3) >>> Second number is greater"
   ]
  },
  {
   "cell_type": "code",
   "execution_count": 85,
   "metadata": {
    "scrolled": true
   },
   "outputs": [
    {
     "name": "stdout",
     "output_type": "stream",
     "text": [
      "Second number is greater\n"
     ]
    }
   ],
   "source": [
    "def number_comparison(x, y):\n",
    "    if x > y:\n",
    "        print(\"First number is greater\")\n",
    "    elif x < y:\n",
    "        print(\"Second number is greater\")\n",
    "    else:\n",
    "        print(\"Numbers are equal\")\n",
    "        \n",
    "number_comparison(3,5)"
   ]
  },
  {
   "cell_type": "markdown",
   "metadata": {},
   "source": [
    "10/10"
   ]
  },
  {
   "cell_type": "markdown",
   "metadata": {},
   "source": [
    "### 7. (15 pts) Nested if Statements\n",
    "You're getting roped into working over the holidays, and there is some overtime involved. Working over the holidays adds 25% to your normal pay for all hours, and any hours worked over 40 adds another 25% (so overtime and holidays combined come to 1.5 times normal pay).\n",
    "\n",
    "Write a function with that returns total pay depending on number of hours worked overtime and whether or not it was a holiday. \n",
    "\n",
    "###### Expected output for this problem is\n",
    "\n",
    "overtime_pay(hours = 42, hourly_pay = 20, holiday = True) >>> 1060\n",
    "\n",
    "overtime_pay(hours = 40, hourly_pay = 20, holiday = False) >>> 800"
   ]
  },
  {
   "cell_type": "code",
   "execution_count": 2,
   "metadata": {},
   "outputs": [
    {
     "name": "stdout",
     "output_type": "stream",
     "text": [
      "780\n",
      "800\n"
     ]
    },
    {
     "data": {
      "text/plain": [
       "860.0"
      ]
     },
     "execution_count": 2,
     "metadata": {},
     "output_type": "execute_result"
    }
   ],
   "source": [
    "def overtime_pay(hours, hourly_pay, holiday):\n",
    "    if holiday == True:\n",
    "        if hours > 40:\n",
    "            return (40 * hourly_pay) + (hourly_pay * (hours-40) * 1.5)        \n",
    "        else:\n",
    "            return (40 * hourly_pay) + ((hours - 40) * hourly_pay * 1.25)\n",
    "    elif hours > 40:\n",
    "            pay = (40 * hourly_pay) + (hourly_pay * (hours-40) * 1.25)\n",
    "            print(pay)\n",
    "    else:\n",
    "        pay = hours * hourly_pay\n",
    "        print(pay)\n",
    "\n",
    "overtime_pay(hours = 39, hourly_pay = 20, holiday = False)\n",
    "\n",
    "overtime_pay(40, 20, False)\n",
    "overtime_pay(42, 20, True)        "
   ]
  },
  {
   "cell_type": "markdown",
   "metadata": {},
   "source": [
    "10/15 math is a little off"
   ]
  },
  {
   "cell_type": "markdown",
   "metadata": {},
   "source": [
    "### 8. (15 pts) The Ski Trip\n",
    "\n",
    "We're going back in time to a ski trip in your pre-legally drinking years. We're skiing in Montana, Alberta, and British Columbia - all places with different drinking ages. Montana, of course, is 21, while Alberta is 18, and BC is 19. \n",
    "\n",
    "Let's build a function using if, elif, and else statements that will let us know when your past self would be able to go to the bar depending on your location - Alberta, BC, or if both of those are false, the US. Use three variables - age (int), in_alberta (boolean), and in_bc (boolean).\n",
    "\n",
    "###### Expected output for this problem is\n",
    "\n",
    "can_you_drink(age = 18, in_alberta = False, in_bc = True) >>> \"Nope!\"\n",
    "\n",
    "can_you_drink(age = 18, in_alberta = True, in_bc = False) >>> \"Go for it!\"\n",
    "\n",
    "can_you_drink(age = 20, in_alberta = False, in_bc = False) >>> \"Nope!\"\n",
    "\n",
    "can_you_drink(age = 18, in_alberta = True, in_bc = True) >>> \"You can't be in two places at once...\"\n"
   ]
  },
  {
   "cell_type": "code",
   "execution_count": 3,
   "metadata": {},
   "outputs": [
    {
     "name": "stdout",
     "output_type": "stream",
     "text": [
      "You are Legal in the US, BC and Alberta!\n",
      "What?\n",
      "You are Legal in Alberta!\n",
      "What?\n",
      "What?\n"
     ]
    }
   ],
   "source": [
    "def can_you_drink(age, in_alberta, in_bc):\n",
    "    if age >= 18 and in_alberta == True and in_bc == False:\n",
    "        print (\"You are Legal in Alberta!\")\n",
    "    elif age >= 19 and in_bc == True and in_alberta == False:\n",
    "        print (\"You are Legal in BC and Alberta!\")\n",
    "    elif age >= 21 and in_bc == False and in_alberta == False:\n",
    "        print (\"You are Legal in the US, BC and Alberta!\")\n",
    "    elif age < 18:\n",
    "        print(\"Sorry Not legal\")\n",
    "    else:\n",
    "        print(\"What?\")\n",
    "\n",
    "can_you_drink(age = 40, in_alberta = False, in_bc = False)\n",
    "\n",
    "can_you_drink(age = 18, in_alberta = False, in_bc = True)\n",
    "\n",
    "can_you_drink(age = 18, in_alberta = True, in_bc = False)\n",
    "\n",
    "can_you_drink(age = 20, in_alberta = False, in_bc = False)\n",
    "\n",
    "can_you_drink(age = 18, in_alberta = True, in_bc = True)"
   ]
  },
  {
   "cell_type": "markdown",
   "metadata": {},
   "source": [
    "0/15 Incorrect responses"
   ]
  }
 ],
 "metadata": {
  "kernelspec": {
   "display_name": "Python 3",
   "language": "python",
   "name": "python3"
  },
  "language_info": {
   "codemirror_mode": {
    "name": "ipython",
    "version": 3
   },
   "file_extension": ".py",
   "mimetype": "text/x-python",
   "name": "python",
   "nbconvert_exporter": "python",
   "pygments_lexer": "ipython3",
   "version": "3.8.5"
  }
 },
 "nbformat": 4,
 "nbformat_minor": 4
}
