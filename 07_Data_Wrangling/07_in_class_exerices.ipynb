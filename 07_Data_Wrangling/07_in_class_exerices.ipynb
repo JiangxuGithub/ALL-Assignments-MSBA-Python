{
 "cells": [
  {
   "cell_type": "markdown",
   "metadata": {},
   "source": [
    "## Week 7"
   ]
  },
  {
   "cell_type": "code",
   "execution_count": 1,
   "metadata": {},
   "outputs": [],
   "source": [
    "import zipfile\n",
    "import os \n",
    "from zipfile import ZipFile\n",
    "import io"
   ]
  },
  {
   "cell_type": "markdown",
   "metadata": {},
   "source": [
    "### reading zip files"
   ]
  },
  {
   "cell_type": "code",
   "execution_count": 7,
   "metadata": {},
   "outputs": [
    {
     "data": {
      "text/plain": [
       "'/Users/liamhettinger/07_Data_Wrangling'"
      ]
     },
     "execution_count": 7,
     "metadata": {},
     "output_type": "execute_result"
    }
   ],
   "source": [
    "path = os.getcwd()\n",
    "path"
   ]
  },
  {
   "cell_type": "code",
   "execution_count": 3,
   "metadata": {},
   "outputs": [
    {
     "data": {
      "text/plain": [
       "['.DS_Store', 'file4.zip', 'file1.zip', 'file3.zip', 'file2.zip']"
      ]
     },
     "execution_count": 3,
     "metadata": {},
     "output_type": "execute_result"
    }
   ],
   "source": [
    "# check what is in out folder\n",
    "os.listdir(path + '/transaction_zips/')"
   ]
  },
  {
   "cell_type": "code",
   "execution_count": 4,
   "metadata": {},
   "outputs": [],
   "source": [
    "# create a clean list of zip  files\n",
    "zip_files = []\n",
    "\n",
    "for file_name in os.listdir(path + '/transaction_zips/'):\n",
    "    if 'zip' in file_name:\n",
    "        zip_files.append(file_name)"
   ]
  },
  {
   "cell_type": "code",
   "execution_count": 5,
   "metadata": {},
   "outputs": [
    {
     "data": {
      "text/plain": [
       "['file4.zip', 'file1.zip', 'file3.zip', 'file2.zip']"
      ]
     },
     "execution_count": 5,
     "metadata": {},
     "output_type": "execute_result"
    }
   ],
   "source": [
    "zip_files"
   ]
  },
  {
   "cell_type": "code",
   "execution_count": null,
   "metadata": {},
   "outputs": [],
   "source": []
  },
  {
   "cell_type": "code",
   "execution_count": 6,
   "metadata": {},
   "outputs": [
    {
     "name": "stdout",
     "output_type": "stream",
     "text": [
      "file1.csv\n",
      "﻿CustomerId,SalesOrderId,TransactionDate,GrandTotal,Status\n",
      "\n",
      "1,36777536,6/1/21,180,fulfilled\n",
      "\n",
      "2,36914274,6/1/21,119.94,fulfilled\n",
      "\n",
      "3,37054577,6/1/21,119.95,returned\n",
      "\n",
      "4,37137392,6/1/21,132.44,fulfilled\n",
      "\n",
      "5,37075736,6/1/21,158.9,fulfilled\n"
     ]
    }
   ],
   "source": [
    "with ZipFile('transaction_zips/' + 'file1.zip', 'r') as zf:\n",
    "        # create a list of the zip contents\n",
    "        zipped_files = zf.namelist()\n",
    "        for file_name in zipped_files:\n",
    "            print(file_name)\n",
    "            input_file = zf.open(file_name, 'r') \n",
    "            # fix the encoding - we might need to test this out for windows users\n",
    "            input_file = io.TextIOWrapper(input_file,encoding=\"utf-8\")\n",
    "            for line in input_file:\n",
    "                print(line)"
   ]
  },
  {
   "cell_type": "code",
   "execution_count": null,
   "metadata": {},
   "outputs": [],
   "source": [
    "zipped_files"
   ]
  },
  {
   "cell_type": "code",
   "execution_count": null,
   "metadata": {},
   "outputs": [],
   "source": [
    "# let's just check one out\n",
    "with ZipFile('transaction_zips/' + 'file1.zip', 'r') as zf:\n",
    "        # create a list of the zip contents\n",
    "        zipped_files = zf.namelist()\n",
    "        # read in files\n",
    "        for file_name in zipped_files:\n",
    "            print(file_name)\n",
    "            # open the compressed files\n",
    "            input_file = zf.open(file_name, 'r') \n",
    "            # fix the encoding - we might need to test this out for windows users\n",
    "            input_file = io.TextIOWrapper(input_file,encoding=\"utf-8\")\n",
    "            for line in input_file:\n",
    "                print(line)"
   ]
  },
  {
   "cell_type": "code",
   "execution_count": null,
   "metadata": {
    "scrolled": true
   },
   "outputs": [],
   "source": [
    "# break out rooms - get the above code chunk going - loop through all zips\n",
    "\n",
    "\n",
    "for zipped_file in zip_files:\n",
    "    with ZipFile('transaction_zips/' + 'file1.zip', 'r') as zf:\n",
    "        # create a list of the zip contents\n",
    "        zipped_files = zf.namelist()\n",
    "        # read in files\n",
    "        for file_name in zipped_files:\n",
    "            print(file_name)\n",
    "            # open the compressed files\n",
    "            input_file = zf.open(file_name, 'r') \n",
    "            # fix the encoding - we might need to test this out for windows users\n",
    "            input_file = io.TextIOWrapper(input_file,encoding=\"utf-8\")\n",
    "            for line in input_file:\n",
    "                print(line)\n",
    "                    "
   ]
  },
  {
   "cell_type": "markdown",
   "metadata": {},
   "source": [
    "### Regex"
   ]
  },
  {
   "cell_type": "code",
   "execution_count": 22,
   "metadata": {},
   "outputs": [],
   "source": [
    "import re"
   ]
  },
  {
   "cell_type": "code",
   "execution_count": null,
   "metadata": {},
   "outputs": [],
   "source": [
    "# match only checks the first part of the string\n",
    "# search will look through the the entire string or just through different parts of it\n",
    "string = 'something to check'\n",
    "#print(re.match('check',string))\n",
    "print(re.match('some',string))"
   ]
  },
  {
   "cell_type": "code",
   "execution_count": null,
   "metadata": {},
   "outputs": [],
   "source": [
    "quote = 'it was the best of times, it was the worst of times'"
   ]
  },
  {
   "cell_type": "code",
   "execution_count": null,
   "metadata": {},
   "outputs": [],
   "source": [
    "# establish the pattern and save it - this is a bit more programmatic \n",
    "best_pattern = re.compile(r'best')"
   ]
  },
  {
   "cell_type": "code",
   "execution_count": null,
   "metadata": {},
   "outputs": [],
   "source": [
    "# call search() with the quote above\n",
    "\n",
    "best_pattern.search(quote)"
   ]
  },
  {
   "cell_type": "code",
   "execution_count": null,
   "metadata": {},
   "outputs": [],
   "source": [
    "# replace the pattern with a new phrase\n",
    "\n",
    "best_pattern.sub(r'most okay',quote)"
   ]
  },
  {
   "cell_type": "code",
   "execution_count": null,
   "metadata": {},
   "outputs": [],
   "source": [
    "it_pattern = re.compile(r'it')\n",
    "\n",
    "## search only returns the first instance\n",
    "\n",
    "#it_pattern.search(quote)\n",
    "\n",
    "## sub will replace all instances \n",
    "\n",
    "it_pattern.sub('',quote)"
   ]
  },
  {
   "cell_type": "code",
   "execution_count": null,
   "metadata": {},
   "outputs": [],
   "source": [
    "# breakout rooms\n",
    "\n",
    "\n",
    "# ^ - matches if a string starts with a character\n",
    "# $ - matches if a string ends with a character\n",
    "# . - matches any character\n",
    "# [] - matches if any characters are present\n",
    "# + - matches one or more occurrences to the left\n",
    "# ? - matches zero or one occurrence to the left\n",
    "# | - used for alteration\n",
    "\n",
    "# \\A - matches if characters are at the beginning or end of the string\n",
    "# \\b - matches if characters are at the beginning or end of a word\n",
    "# \\d - matches any number\n",
    "# \\D - matches any non-numeric characters\n",
    "# \\s - matches any string that contains whitespace\n",
    "# \\w - matches any alphanumeric character\n",
    "\n",
    "# \\ - escapes any symbol you want to match\n",
    "# [^ ] - the caret in brackets will reverse whatever pattern follows it "
   ]
  },
  {
   "cell_type": "code",
   "execution_count": null,
   "metadata": {},
   "outputs": [],
   "source": [
    "\n",
    "#pattern = re.compile(r'\\be\\w+')\n",
    "pattern = re.compile(r'\\be\\w+')\n",
    "string = 'this is an example  '\n",
    "pattern.sub('answer', string)"
   ]
  },
  {
   "cell_type": "code",
   "execution_count": null,
   "metadata": {},
   "outputs": [],
   "source": [
    "# brackets with a range of numbers will replace any numeric value\n",
    "pattern = re.compile(r'[1-9]')\n",
    "string = 'This is 1 example'\n",
    "pattern.sub('X',string)"
   ]
  },
  {
   "cell_type": "code",
   "execution_count": null,
   "metadata": {},
   "outputs": [],
   "source": [
    "# same with letters\n",
    "pattern = re.compile(r'[a-jn-z]')\n",
    "string = '123y5'\n",
    "pattern.sub('4',string)"
   ]
  },
  {
   "cell_type": "code",
   "execution_count": null,
   "metadata": {},
   "outputs": [],
   "source": [
    "# use \\ to escape special characters\n",
    "pattern = r'\\$'\n",
    "test_string = '$1'\n",
    "result = re.match(pattern, test_string)\n",
    "# check if result has match\n",
    "if result:\n",
    "    print(True)"
   ]
  },
  {
   "cell_type": "code",
   "execution_count": null,
   "metadata": {},
   "outputs": [],
   "source": [
    "# matching the first and last letter of my name along with the right number or periods\n",
    "pattern = r'^t....s$'\n",
    "test_string = 'thomas'\n",
    "result = re.match(pattern, test_string)\n",
    "# check if result has match\n",
    "if result:\n",
    "    print(True)"
   ]
  },
  {
   "cell_type": "code",
   "execution_count": null,
   "metadata": {},
   "outputs": [],
   "source": [
    "pattern = r'\\d' # same as using [1-9]\n",
    "test_string = '123'\n",
    "result = re.match(pattern, test_string)\n",
    "# check if result has match\n",
    "if result:\n",
    "    print(True)"
   ]
  },
  {
   "cell_type": "code",
   "execution_count": null,
   "metadata": {},
   "outputs": [],
   "source": [
    "pattern = r'\\w\\s'\n",
    "test_string = 'abc 123'\n",
    "#test_string = ' a '\n",
    "result = re.match(pattern, test_string)\n",
    "# check if result has match\n",
    "if result:\n",
    "    print(True)"
   ]
  },
  {
   "cell_type": "code",
   "execution_count": null,
   "metadata": {},
   "outputs": [],
   "source": [
    "# example of regex to remove punctuation\n",
    "# \\w matches any alphanumeric characte\n",
    "# \\s matches any whitespace\n",
    "# inside of brackets, ^ means not \n",
    "test_string = 'as-df9.'\n",
    "#punctuation_pattern = re.compile(r'[^\\w\\s]')\n",
    "punctuation_pattern = re.compile(r'[^1-9]')\n",
    "punctuation_pattern.sub('X',test_string)"
   ]
  },
  {
   "cell_type": "code",
   "execution_count": null,
   "metadata": {},
   "outputs": [],
   "source": [
    "# breakout rooms\n",
    "\n",
    "\n",
    "# ^ - matches if a string starts with a character\n",
    "# $ - matches if a string ends with a character\n",
    "# . - matches any character\n",
    "# [] - matches if any characters are present\n",
    "# + - matches one or more occurrences to the left\n",
    "# ? - matches zero or one occurrence to the left\n",
    "# | - used for alteration\n",
    "\n",
    "# \\A - matches if characters are at the beginning or end of the string\n",
    "# \\b - matches if characters are at the beginning or end of a word\n",
    "# \\d - matches any number\n",
    "# \\D - matches any non-numeric characters\n",
    "# \\s - matches any string that contains whitespace\n",
    "# \\w - matches any alphanumeric character\n",
    "\n",
    "# \\ - escapes any symbol you want to match\n",
    "# [^ ] - the caret in brackets will reverse whatever pattern follows it  \n",
    "\n",
    "import re\n",
    "\n",
    "# Enter a pattern in re.compile() to change the below date to 06-01-2021\n",
    "test_string = '06/01/2021'\n",
    "pattern = re.compile(r'/')\n",
    "pattern.sub('-',test_string)\n",
    "\n",
    "# Enter a pattern in re.compile() to change bears and beets to be singular\n",
    "test_string = \"bears, beets, battlestar galactica\"\n",
    "punctuation_pattern = re.compile()\n",
    "punctuation_pattern.sub('',test_string)\n",
    "\n",
    "# Enter a pattern in re.compile() to strip everything but 'battlestar galactica' (don't just use a match on it)\n",
    "test_string = \"2 bears, 2 beets, battlestar galactica\"\n",
    "punctuation_pattern = re.compile()\n",
    "punctuation_pattern.sub('',test_string)"
   ]
  },
  {
   "cell_type": "code",
   "execution_count": null,
   "metadata": {},
   "outputs": [],
   "source": [
    "test_string = \"2 bears, 2 beets, battlestar galactica\"\n",
    "punctuation_pattern = re.compile(r'\\d\\s\\bb.....\\s+')\n",
    "punctuation_pattern.sub('',test_string)"
   ]
  },
  {
   "cell_type": "markdown",
   "metadata": {},
   "source": [
    "### Brewery API"
   ]
  },
  {
   "cell_type": "code",
   "execution_count": 9,
   "metadata": {},
   "outputs": [],
   "source": [
    "import requests\n",
    "#https://shkspr.mobi/blog/2016/05/easy-apis-without-authentication/\n",
    "#https://mixedanalytics.com/blog/list-actually-free-open-no-auth-needed-apis/"
   ]
  },
  {
   "cell_type": "code",
   "execution_count": 10,
   "metadata": {},
   "outputs": [],
   "source": [
    "# brewery api \n",
    "# https://www.openbrewerydb.org/documentation/01-listbreweries\n",
    "url = 'https://api.openbrewerydb.org/breweries?by_state=montana' # open this up in the browser"
   ]
  },
  {
   "cell_type": "code",
   "execution_count": 11,
   "metadata": {},
   "outputs": [],
   "source": [
    "# save the request as a variable\n",
    "r = requests.get(url)"
   ]
  },
  {
   "cell_type": "code",
   "execution_count": 12,
   "metadata": {},
   "outputs": [
    {
     "data": {
      "text/plain": [
       "200"
      ]
     },
     "execution_count": 12,
     "metadata": {},
     "output_type": "execute_result"
    }
   ],
   "source": [
    "r.status_code"
   ]
  },
  {
   "cell_type": "code",
   "execution_count": 13,
   "metadata": {},
   "outputs": [],
   "source": [
    "# open that request and save it as a variable to work with later\n",
    "brew_json = r.json()"
   ]
  },
  {
   "cell_type": "code",
   "execution_count": 14,
   "metadata": {},
   "outputs": [],
   "source": [
    "from pprint import pprint"
   ]
  },
  {
   "cell_type": "code",
   "execution_count": null,
   "metadata": {},
   "outputs": [],
   "source": [
    "# what data type is this\n",
    "pprint(brew_json)"
   ]
  },
  {
   "cell_type": "code",
   "execution_count": 16,
   "metadata": {
    "scrolled": true
   },
   "outputs": [
    {
     "name": "stdout",
     "output_type": "stream",
     "text": [
      "2 Basset Brewery\n",
      "White Sulphur Springs\n",
      "380 Brewing Company\n",
      "Clancy\n",
      "406 Brewing Company\n",
      "Bozeman\n",
      "Angry Hank's Microbrewery\n",
      "Billings\n",
      "Backslope Brewing\n",
      "Columbia Falls\n",
      "Bandit Brewing Co\n",
      "Hamilton\n",
      "Bar 3 BBQ and Brewing\n",
      "Belgrade\n",
      "Bayern Brewing Inc.\n",
      "Missoula\n",
      "Beaver Creek Brewery\n",
      "Wibaux\n",
      "Beaverhead Brewing Co\n",
      "Dillon\n",
      "Beehive Basin Brewery\n",
      "Big Sky\n",
      "Bias Brewing\n",
      "Kalispell\n",
      "Big Sky Brewing Co\n",
      "Missoula\n",
      "Bitter Root Brewing Co\n",
      "Hamilton\n",
      "Black Eagle Brewery\n",
      "Black Eagle\n",
      "Blackfoot River Brewing Co\n",
      "Helena\n",
      "Blacksmith Brewing Co\n",
      "Stevensville\n",
      "BLUE RIDGE BREWING\n",
      "Malta\n",
      "Bonsai Brewing Project\n",
      "Whitefish\n",
      "Bozeman Brewing Co\n",
      "Bozeman\n"
     ]
    }
   ],
   "source": [
    "# print each item or print it out values accorring to key\n",
    "for item in brew_json:\n",
    "   # print(item)\n",
    "    print(item['name'])     \n",
    "    print(item['city'])"
   ]
  },
  {
   "cell_type": "code",
   "execution_count": 17,
   "metadata": {},
   "outputs": [],
   "source": [
    "# pare down to just city and name\n",
    "name_city_list = []\n",
    "for item in brew_json:\n",
    "    name_city_list.append({'name':item['name'],'city':item['city']})\n",
    "    #for key in ('name','city'):\n",
    "    #    name_city_list.append({key:item[key]})\n",
    "        "
   ]
  },
  {
   "cell_type": "code",
   "execution_count": 18,
   "metadata": {},
   "outputs": [
    {
     "data": {
      "text/plain": [
       "[{'name': '2 Basset Brewery', 'city': 'White Sulphur Springs'},\n",
       " {'name': '380 Brewing Company', 'city': 'Clancy'},\n",
       " {'name': '406 Brewing Company', 'city': 'Bozeman'},\n",
       " {'name': \"Angry Hank's Microbrewery\", 'city': 'Billings'},\n",
       " {'name': 'Backslope Brewing', 'city': 'Columbia Falls'},\n",
       " {'name': 'Bandit Brewing Co', 'city': 'Hamilton'},\n",
       " {'name': 'Bar 3 BBQ and Brewing', 'city': 'Belgrade'},\n",
       " {'name': 'Bayern Brewing Inc.', 'city': 'Missoula'},\n",
       " {'name': 'Beaver Creek Brewery', 'city': 'Wibaux'},\n",
       " {'name': 'Beaverhead Brewing Co', 'city': 'Dillon'},\n",
       " {'name': 'Beehive Basin Brewery', 'city': 'Big Sky'},\n",
       " {'name': 'Bias Brewing', 'city': 'Kalispell'},\n",
       " {'name': 'Big Sky Brewing Co', 'city': 'Missoula'},\n",
       " {'name': 'Bitter Root Brewing Co', 'city': 'Hamilton'},\n",
       " {'name': 'Black Eagle Brewery', 'city': 'Black Eagle'},\n",
       " {'name': 'Blackfoot River Brewing Co', 'city': 'Helena'},\n",
       " {'name': 'Blacksmith Brewing Co', 'city': 'Stevensville'},\n",
       " {'name': 'BLUE RIDGE BREWING', 'city': 'Malta'},\n",
       " {'name': 'Bonsai Brewing Project', 'city': 'Whitefish'},\n",
       " {'name': 'Bozeman Brewing Co', 'city': 'Bozeman'}]"
      ]
     },
     "execution_count": 18,
     "metadata": {},
     "output_type": "execute_result"
    }
   ],
   "source": [
    "# notice how long this is\n",
    "name_city_list"
   ]
  },
  {
   "cell_type": "code",
   "execution_count": null,
   "metadata": {},
   "outputs": [],
   "source": [
    "import requests\n",
    "# pagination\n",
    "# let's loop through this - \n",
    "# the goal is to expand on this code chunk to append all pages of \n",
    "# montana breweries in {name,city} format to name_city_list. \n",
    "url = 'https://api.openbrewerydb.org/breweries?by_state=montana&page='\n",
    "page_num = 1\n",
    "\n",
    "name_city_list = []\n",
    "\n",
    "r = requests.get(url + str(page_num))\n",
    "\n",
    "brew_json = r.json()\n",
    "\n",
    "for item in brew_json:\n",
    "    name_city_list.append({'name':item['name'],'city':item['city']})\n",
    "print(name_city_list)"
   ]
  },
  {
   "cell_type": "code",
   "execution_count": null,
   "metadata": {},
   "outputs": [],
   "source": [
    "len(brew_json)"
   ]
  },
  {
   "cell_type": "code",
   "execution_count": null,
   "metadata": {},
   "outputs": [],
   "source": [
    "len(name_city_list)"
   ]
  },
  {
   "cell_type": "code",
   "execution_count": null,
   "metadata": {},
   "outputs": [],
   "source": [
    "name_city_list"
   ]
  },
  {
   "cell_type": "code",
   "execution_count": null,
   "metadata": {},
   "outputs": [],
   "source": [
    "# breakout answer to pull all data from brewery api\n",
    "\n",
    "name_city_list = []\n",
    "\n",
    "url = 'https://api.openbrewerydb.org/breweries?by_state=montana&page='\n",
    "\n",
    "for i in range(1,100):\n",
    "    full_url = url + str(i) # create new url with page number\n",
    "    print(full_url)\n",
    "    \n",
    "    r = requests.get(full_url)  # send request\n",
    "    print(len(r.json()))\n",
    "    if len(r.json()) == 0:\n",
    "        break #break if the json is empty\n",
    "    \n",
    "    # here we will loop through each     \n",
    "    for item in r.json():\n",
    "        name_city_list.append({'name':item['name'],'city':item['city']})\n"
   ]
  },
  {
   "cell_type": "code",
   "execution_count": null,
   "metadata": {},
   "outputs": [],
   "source": [
    "url = 'https://api.openbrewerydb.org/breweries?by_state=montana&page='\n",
    "page_num = 1\n",
    "name_city_list = []\n",
    "'''\n",
    "r = requests.get(url + str(page_num))\n",
    "\n",
    "brew_json = r.json()\n",
    "for item in brew_json:\n",
    "    name_city_list.append({'name':item['name'],'city':item['city']})\n",
    "    '''\n",
    "while len(brew_json) > 0:\n",
    "   \n",
    "    r = requests.get(url + str(page_num))\n",
    "    brew_json = r.json()\n",
    "    for item in brew_json:\n",
    "        name_city_list.append({'name':item['name'],'city':item['city']})\n",
    "    page_num += 1\n",
    "print(name_city_list)"
   ]
  },
  {
   "cell_type": "code",
   "execution_count": null,
   "metadata": {},
   "outputs": [],
   "source": [
    "name_city_list"
   ]
  },
  {
   "cell_type": "markdown",
   "metadata": {},
   "source": [
    "### Cleaning\n",
    "\n",
    "Let's count how often certain words occur in brewery names across the state\n",
    "\n",
    "What cleaning should we do?\n",
    "\n",
    "* use regular expressions to remove brewery, brewing, co, company, microbrewery, brew\n",
    "* use regular expressions to remove any punctuation\n",
    "* strip any whitespace\n",
    "* remove any duplicates\n",
    "* change all names to lower case\n",
    "\n",
    "If we go through these steps and create a list of clean brewery names, output should look like this:\n",
    "\n",
    "['2 basset','380','406','angry hanks','backslope'...]"
   ]
  },
  {
   "cell_type": "code",
   "execution_count": 19,
   "metadata": {},
   "outputs": [],
   "source": [
    "brewery = 'Conflux Brewing Co'"
   ]
  },
  {
   "cell_type": "code",
   "execution_count": 20,
   "metadata": {},
   "outputs": [
    {
     "data": {
      "text/plain": [
       "'nflux Brewing '"
      ]
     },
     "execution_count": 20,
     "metadata": {},
     "output_type": "execute_result"
    }
   ],
   "source": [
    "brewery.replace('Co','')"
   ]
  },
  {
   "cell_type": "code",
   "execution_count": 23,
   "metadata": {},
   "outputs": [
    {
     "data": {
      "text/plain": [
       "'Conflux Brewing '"
      ]
     },
     "execution_count": 23,
     "metadata": {},
     "output_type": "execute_result"
    }
   ],
   "source": [
    "re.sub(r'Co\\b','',brewery)"
   ]
  },
  {
   "cell_type": "code",
   "execution_count": 24,
   "metadata": {},
   "outputs": [],
   "source": [
    "name_list = []\n",
    "for item in name_city_list:\n",
    "    #print(item)\n",
    "    brewery_name = item['name'].lower()\n",
    "    brewery_name = re.sub(r'co\\b','',brewery_name)\n",
    "    brewery_name = re.sub(r'[^\\w\\s]','',brewery_name)\n",
    "    name_list.append(brewery_name)"
   ]
  },
  {
   "cell_type": "code",
   "execution_count": 25,
   "metadata": {},
   "outputs": [
    {
     "data": {
      "text/plain": [
       "['2 basset brewery',\n",
       " '380 brewing company',\n",
       " '406 brewing company',\n",
       " 'angry hanks microbrewery',\n",
       " 'backslope brewing',\n",
       " 'bandit brewing ',\n",
       " 'bar 3 bbq and brewing',\n",
       " 'bayern brewing inc',\n",
       " 'beaver creek brewery',\n",
       " 'beaverhead brewing ',\n",
       " 'beehive basin brewery',\n",
       " 'bias brewing',\n",
       " 'big sky brewing ',\n",
       " 'bitter root brewing ',\n",
       " 'black eagle brewery',\n",
       " 'blackfoot river brewing ',\n",
       " 'blacksmith brewing ',\n",
       " 'blue ridge brewing',\n",
       " 'bonsai brewing project',\n",
       " 'bozeman brewing ']"
      ]
     },
     "execution_count": 25,
     "metadata": {},
     "output_type": "execute_result"
    }
   ],
   "source": [
    "name_list"
   ]
  },
  {
   "cell_type": "code",
   "execution_count": null,
   "metadata": {},
   "outputs": [],
   "source": [
    "clean_name_list = []\n",
    "for name in name_list:\n",
    "   # name = name.replace('brewery','').replace('company','').replace('brewing','').replace('brew','')\n",
    "    name = re.sub(r'(brewery|company|brewing|brew|microbrewery)','',name)\n",
    "    name = name.strip()\n",
    "    name = name.replace('    ',' ')\n",
    "    clean_name_list.append(name)"
   ]
  },
  {
   "cell_type": "code",
   "execution_count": null,
   "metadata": {},
   "outputs": [],
   "source": [
    "len(clean_name_list)"
   ]
  },
  {
   "cell_type": "code",
   "execution_count": null,
   "metadata": {},
   "outputs": [],
   "source": [
    "clean_name_list"
   ]
  },
  {
   "cell_type": "code",
   "execution_count": null,
   "metadata": {},
   "outputs": [],
   "source": [
    "# remove duplicates\n",
    "len(set(clean_name_list))"
   ]
  },
  {
   "cell_type": "code",
   "execution_count": null,
   "metadata": {},
   "outputs": [],
   "source": [
    "clean_name_list = list(set(clean_name_list))"
   ]
  },
  {
   "cell_type": "code",
   "execution_count": null,
   "metadata": {},
   "outputs": [],
   "source": [
    "# pull out words \n",
    "all_words = []\n",
    "for brewery_name in clean_name_list:\n",
    "    for word in brewery_name.split(\" \"):\n",
    "        print(word)\n",
    "        all_words.append(word)"
   ]
  },
  {
   "cell_type": "code",
   "execution_count": null,
   "metadata": {},
   "outputs": [],
   "source": [
    "all_words"
   ]
  },
  {
   "cell_type": "code",
   "execution_count": null,
   "metadata": {},
   "outputs": [],
   "source": [
    "import collections"
   ]
  },
  {
   "cell_type": "code",
   "execution_count": null,
   "metadata": {},
   "outputs": [],
   "source": [
    "counter = collections.Counter(all_words)"
   ]
  },
  {
   "cell_type": "code",
   "execution_count": null,
   "metadata": {},
   "outputs": [],
   "source": [
    "print(counter)"
   ]
  },
  {
   "cell_type": "markdown",
   "metadata": {},
   "source": [
    "### Text Parsing & Sentiment Analysis"
   ]
  },
  {
   "cell_type": "code",
   "execution_count": null,
   "metadata": {},
   "outputs": [],
   "source": [
    "nltk.download()"
   ]
  },
  {
   "cell_type": "code",
   "execution_count": 45,
   "metadata": {},
   "outputs": [],
   "source": [
    "import nltk\n",
    "from nltk.tokenize import sent_tokenize\n",
    "from nltk.tokenize import word_tokenize\n",
    "from nltk.probability import FreqDist\n",
    "from nltk.corpus import stopwords\n",
    "from nltk.stem import PorterStemmer\n",
    "from nltk.stem.wordnet import WordNetLemmatizer\n",
    "import string"
   ]
  },
  {
   "cell_type": "code",
   "execution_count": 46,
   "metadata": {},
   "outputs": [],
   "source": [
    "with open('lotr','r') as file:\n",
    "    text = file.read().replace('\\n', '')"
   ]
  },
  {
   "cell_type": "code",
   "execution_count": 47,
   "metadata": {},
   "outputs": [
    {
     "data": {
      "text/plain": [
       "'When Mr. Bilbo Baggins of Bag End announced that he would shortly becelebrating his eleventy-first birthday with a party of specialmagnificence, there was much talk and excitement in Hobbiton.Bilbo was very rich and very peculiar, and had been thewonder of the Shire for sixty years, ever since his remarkabledisappearance and unexpected return. The riches he had brought backfrom his travels had now become a local legend, and it was popularlybelieved, whatever the old folk might say, that the Hill at Bag Endwas full of tunnels stuffed with treasure. And if that was not enoughfor fame, there was also his prolonged vigour to marvel at. Time woreon, but it seemed to have little effect on Mr. Baggins. At ninety hewas much the same as at fifty. At ninety-nine they began to call himwell-preserved; but unchanged would have been nearer the mark. Therewere some that shook their heads and thought this was too much of agood thing; it seemed unfair that anyone should possess (apparently)perpetual youth as well as (reputedly) inexhaustible wealth.\"It will have to be paid for,\" they said. \"It isn\"t natural,and trouble will come of it!\"But so far trouble had not come; and as Mr. Baggins wasgenerous with his money, most people were willing to forgive him hisoddities and his good fortune. He remained on visiting terms with hisrelatives (except, of course, the Sackville-Bagginses), and he hadmany devoted admirers among the hobbits of poor and unimportantfamilies. But he had no close friends, until some of his youngercousins began to grow up.The eldest of these, and Bilbo\"s favourite, was young FrodoBaggins. When Bilbo was ninety-nine he adopted Frodo as his heir, andbrought him to live at Bag End; and the hopes of the Sackville-Bagginses were finally dashed. Bilbo and Frodo happened to have thesame birthday, September 22nd. \"You had better come and live here,Frodo my lad,\" said Bilbo one day; \"and then we can celebrate ourbirthday-parties comfortably together.\" At that time Frodo was stillin his tweens, as the hobbits called the irresponsible twentiesbetween childhood and coming of age at thirty-three.Twelve more years passed. Each year the Bagginses had givenvery lively combined birthday-parties at Bag End; but now it wasunderstood that something quite exceptional was being planned forthat autumn. Bilbo was going to be eleventy-one, 111, a rathercurious number, and a very respectable age for a hobbit (the Old Tookhimself had only reached 130); and Frodo was going to be thirty-three, 33, an important number: the date of his \"coming of age\".Tongues began to wag in Hobbiton and Bywater; and rumour ofthe coming event travelled all over the Shire. The history andcharacter of Mr. Bilbo Baggins became once again the chief topic ofconversation; and the older folk suddenly found their reminiscencesin welcome demand.No one had a more attentive audience than old Ham Gamgee,commonly known as the Gaffer. He held forth at The Ivy Bush, a smallinn on the Bywater road; and he spoke with some authority, for he hadtended the garden at Bag End for forty years, and had helped oldHolman in the same job before that. Now that he was himself growingold and stiff in the joints, the job was mainly carried on by hisyoungest son, Sam Gamgee. Both father and son were on very friendlyterms with Bilbo and Frodo. They lived on the Hill itself, in Number3 Bagshot Row just below Bag End.\"A very nice well-spoken gentlehobbit is Mr. Bilbo, as I\"vealways said,\" the Gaffer declared. With perfect truth: for Bilbo wasvery polite to him, calling him \"Master Hamfast\", and consulting himconstantly upon the growing of vegetables — in the matter of \"roots\",especially potatoes, the Gaffer was recognized as the leadingauthority by all in the neighbourhood (including himself).\"But what about this Frodo that lives with him?\" asked OldNoakes of Bywater. \"Baggins is his name, but he\"s more than half aBrandybuck, they say. It beats me why any Baggins of Hobbiton shouldgo looking for a wife away there in Buckland, where folks are soqueer.\"\"And no wonder they\"re queer,\" put in Daddy Twofoot (theGaffer\"s next-door neighbour), \"if they live on the wrong side of theBrandywine River, and right agin the Old Forest. That\"s a dark badplace, if half the tales be true.\"\"You\"re right, Dad!\" said the Gaffer. \"Not that theBrandybucks of Buckland live in the Old Forest; but they\"re a queerbreed, seemingly. They fool about with boats on that big river — andthat isn\"t natural. Small wonder that trouble came of it, I say. Butbe that as it may, Mr. Frodo is as nice a young hobbit as you couldwish to meet. Very much like Mr. Bilbo, and in more than looks. Afterall his father was a Baggins. A decent respectable hobbit was Mr.Drogo Baggins; there was never much to tell of him, till he wasdrownded.\"\"Drownded?\" said several voices. They had heard this andother darker rumours before, of course; but hobbits have a passionfor family history, and they were ready to hear it again.\"Well, so they say,\" said the Gaffer. \"You see: Mr. Drogo, hemarried poor Miss Primula Brandybuck. She was our Mr. Bilbo\"s firstcousin on the mother\"s side (her mother being the youngest of the OldTook\"s daughters); and Mr. Drogo was his second cousin. So Mr. Frodois his first and second cousin, once removed either way, as thesaying is, if you follow me. And Mr. Drogo was staying at Brandy Hallwith his father-in-law, old Master Gorbadoc, as he often did afterhis marriage (him being partial to his vittles, and old Gorbadockeeping a mighty generous table); and he went out boating on theBrandywine River; and he and his wife were drownded, and poor Mr.Frodo only a child and all.\"\"I\"ve heard they went on the water after dinner in themoonlight,\" said Old Noakes; \"and it was Drogo\"s weight as sunk theboat.\"\"And I heard she pushed him in, and he pulled her in afterhim,\" said Sandyman, the Hobbiton miller.\"You shouldn\"t listen to all you hear, Sandyman,\" said theGaffer, who did not much like the miller. \"There isn\"t no call to gotalking of pushing and pulling. Boats are quite tricky enough forthose that sit still without looking further for the cause oftrouble. Anyway: there was this Mr. Frodo left an orphan andstranded, as you might say, among those queer Bucklanders, beingbrought up anyhow in Brandy Hall. A regular warren, by all accounts.Old Master Gorbadoc never had fewer than a couple of hundredrelations in the place. Mr. Bilbo never did a kinder deed than whenhe brought the lad back to live among decent folk.\"But I reckon it was a nasty shock for those Sackville-Bagginses. They thought they were going to get Bag End, that timewhen he went off and was thought to be dead. And then he comes backand orders them off; and he goes on living and living, and neverlooking a day older, bless him! And suddenly he produces an heir, andhas all the papers made out proper. The Sackville-Bagginses won\"tnever see the inside of Bag End now, or it is to be hoped not.\"\"There\"s a tidy bit of money tucked away up there, I heartell,\" said a stranger, a visitor on business from Michel Delving inthe Westfarthing. \"All the top of your hill is full of tunnels packedwith chests of gold and silver, and jools, by what I\"ve heard.\"\"Then you\"ve heard more than I can speak to,\" answered theGaffer. I know nothing about jools. Mr. Bilbo is free with his money,and there seems no lack of it; but I know of no tunnel-making. I sawMr. Bilbo when he came back, a matter of sixty years ago, when I wasa lad. I\"d not long come prentice to old Holman (him being my dad\"scousin), but he had me up at Bag End helping him to keep folks fromtrampling and trapessing all over the garden while the sale was on.And in the middle of it all Mr. Bilbo comes up the Hill with a ponyand some mighty big bags and a couple of chests. I don\"t doubt theywere mostly full of treasure he had picked up in foreign parts, wherethere be mountains of gold, they say; but there wasn\"t enough to filltunnels. But my lad Sam will know more about that. He\"s in and out ofBag End. Crazy about stories of the old days he is, and he listens toall Mr. Bilbo\"s tales. Mr. Bilbo has learned him his letters —meaning no harm, mark you, and I hope no harm will come of it.\"Elves and Dragons! I says to him. \"Cabbages and potatoes arebetter for me and you. Don\"t go getting mixed up in the business ofyour betters, or you\"ll land in trouble too big for you,\" I says tohim. And I might say it to others,\" he added with a look at thestranger and the miller.'"
      ]
     },
     "execution_count": 47,
     "metadata": {},
     "output_type": "execute_result"
    }
   ],
   "source": [
    "text"
   ]
  },
  {
   "cell_type": "code",
   "execution_count": 48,
   "metadata": {},
   "outputs": [
    {
     "name": "stdout",
     "output_type": "stream",
     "text": [
      "['When Mr. Bilbo Baggins of Bag End announced that he would shortly becelebrating his eleventy-first birthday with a party of specialmagnificence, there was much talk and excitement in Hobbiton.Bilbo was very rich and very peculiar, and had been thewonder of the Shire for sixty years, ever since his remarkabledisappearance and unexpected return.', 'The riches he had brought backfrom his travels had now become a local legend, and it was popularlybelieved, whatever the old folk might say, that the Hill at Bag Endwas full of tunnels stuffed with treasure.', 'And if that was not enoughfor fame, there was also his prolonged vigour to marvel at.', 'Time woreon, but it seemed to have little effect on Mr. Baggins.', 'At ninety hewas much the same as at fifty.', 'At ninety-nine they began to call himwell-preserved; but unchanged would have been nearer the mark.', 'Therewere some that shook their heads and thought this was too much of agood thing; it seemed unfair that anyone should possess (apparently)perpetual youth as well as (reputedly) inexhaustible wealth.', '\"It will have to be paid for,\" they said.', '\"It isn\"t natural,and trouble will come of it!', '\"But so far trouble had not come; and as Mr. Baggins wasgenerous with his money, most people were willing to forgive him hisoddities and his good fortune.', 'He remained on visiting terms with hisrelatives (except, of course, the Sackville-Bagginses), and he hadmany devoted admirers among the hobbits of poor and unimportantfamilies.', 'But he had no close friends, until some of his youngercousins began to grow up.The eldest of these, and Bilbo\"s favourite, was young FrodoBaggins.', 'When Bilbo was ninety-nine he adopted Frodo as his heir, andbrought him to live at Bag End; and the hopes of the Sackville-Bagginses were finally dashed.', 'Bilbo and Frodo happened to have thesame birthday, September 22nd.', '\"You had better come and live here,Frodo my lad,\" said Bilbo one day; \"and then we can celebrate ourbirthday-parties comfortably together.\"', 'At that time Frodo was stillin his tweens, as the hobbits called the irresponsible twentiesbetween childhood and coming of age at thirty-three.Twelve more years passed.', 'Each year the Bagginses had givenvery lively combined birthday-parties at Bag End; but now it wasunderstood that something quite exceptional was being planned forthat autumn.', 'Bilbo was going to be eleventy-one, 111, a rathercurious number, and a very respectable age for a hobbit (the Old Tookhimself had only reached 130); and Frodo was going to be thirty-three, 33, an important number: the date of his \"coming of age\".Tongues began to wag in Hobbiton and Bywater; and rumour ofthe coming event travelled all over the Shire.', 'The history andcharacter of Mr. Bilbo Baggins became once again the chief topic ofconversation; and the older folk suddenly found their reminiscencesin welcome demand.No one had a more attentive audience than old Ham Gamgee,commonly known as the Gaffer.', 'He held forth at The Ivy Bush, a smallinn on the Bywater road; and he spoke with some authority, for he hadtended the garden at Bag End for forty years, and had helped oldHolman in the same job before that.', 'Now that he was himself growingold and stiff in the joints, the job was mainly carried on by hisyoungest son, Sam Gamgee.', 'Both father and son were on very friendlyterms with Bilbo and Frodo.', 'They lived on the Hill itself, in Number3 Bagshot Row just below Bag End.', '\"A very nice well-spoken gentlehobbit is Mr. Bilbo, as I\"vealways said,\" the Gaffer declared.', 'With perfect truth: for Bilbo wasvery polite to him, calling him \"Master Hamfast\", and consulting himconstantly upon the growing of vegetables — in the matter of \"roots\",especially potatoes, the Gaffer was recognized as the leadingauthority by all in the neighbourhood (including himself).', '\"But what about this Frodo that lives with him?\"', 'asked OldNoakes of Bywater.', '\"Baggins is his name, but he\"s more than half aBrandybuck, they say.', 'It beats me why any Baggins of Hobbiton shouldgo looking for a wife away there in Buckland, where folks are soqueer.', '\"\"And no wonder they\"re queer,\" put in Daddy Twofoot (theGaffer\"s next-door neighbour), \"if they live on the wrong side of theBrandywine River, and right agin the Old Forest.', 'That\"s a dark badplace, if half the tales be true.', '\"\"You\"re right, Dad!\"', 'said the Gaffer.', '\"Not that theBrandybucks of Buckland live in the Old Forest; but they\"re a queerbreed, seemingly.', 'They fool about with boats on that big river — andthat isn\"t natural.', 'Small wonder that trouble came of it, I say.', 'Butbe that as it may, Mr. Frodo is as nice a young hobbit as you couldwish to meet.', 'Very much like Mr. Bilbo, and in more than looks.', 'Afterall his father was a Baggins.', 'A decent respectable hobbit was Mr.Drogo Baggins; there was never much to tell of him, till he wasdrownded.\"\"Drownded?\"', 'said several voices.', 'They had heard this andother darker rumours before, of course; but hobbits have a passionfor family history, and they were ready to hear it again.', '\"Well, so they say,\" said the Gaffer.', '\"You see: Mr. Drogo, hemarried poor Miss Primula Brandybuck.', 'She was our Mr. Bilbo\"s firstcousin on the mother\"s side (her mother being the youngest of the OldTook\"s daughters); and Mr. Drogo was his second cousin.', 'So Mr. Frodois his first and second cousin, once removed either way, as thesaying is, if you follow me.', 'And Mr. Drogo was staying at Brandy Hallwith his father-in-law, old Master Gorbadoc, as he often did afterhis marriage (him being partial to his vittles, and old Gorbadockeeping a mighty generous table); and he went out boating on theBrandywine River; and he and his wife were drownded, and poor Mr.Frodo only a child and all.', '\"\"I\"ve heard they went on the water after dinner in themoonlight,\" said Old Noakes; \"and it was Drogo\"s weight as sunk theboat.', '\"\"And I heard she pushed him in, and he pulled her in afterhim,\" said Sandyman, the Hobbiton miller.', '\"You shouldn\"t listen to all you hear, Sandyman,\" said theGaffer, who did not much like the miller.', '\"There isn\"t no call to gotalking of pushing and pulling.', 'Boats are quite tricky enough forthose that sit still without looking further for the cause oftrouble.', 'Anyway: there was this Mr. Frodo left an orphan andstranded, as you might say, among those queer Bucklanders, beingbrought up anyhow in Brandy Hall.', 'A regular warren, by all accounts.Old Master Gorbadoc never had fewer than a couple of hundredrelations in the place.', 'Mr. Bilbo never did a kinder deed than whenhe brought the lad back to live among decent folk.', '\"But I reckon it was a nasty shock for those Sackville-Bagginses.', 'They thought they were going to get Bag End, that timewhen he went off and was thought to be dead.', 'And then he comes backand orders them off; and he goes on living and living, and neverlooking a day older, bless him!', 'And suddenly he produces an heir, andhas all the papers made out proper.', 'The Sackville-Bagginses won\"tnever see the inside of Bag End now, or it is to be hoped not.', '\"\"There\"s a tidy bit of money tucked away up there, I heartell,\" said a stranger, a visitor on business from Michel Delving inthe Westfarthing.', '\"All the top of your hill is full of tunnels packedwith chests of gold and silver, and jools, by what I\"ve heard.', '\"\"Then you\"ve heard more than I can speak to,\" answered theGaffer.', 'I know nothing about jools.', 'Mr. Bilbo is free with his money,and there seems no lack of it; but I know of no tunnel-making.', 'I sawMr.', 'Bilbo when he came back, a matter of sixty years ago, when I wasa lad.', 'I\"d not long come prentice to old Holman (him being my dad\"scousin), but he had me up at Bag End helping him to keep folks fromtrampling and trapessing all over the garden while the sale was on.And in the middle of it all Mr. Bilbo comes up the Hill with a ponyand some mighty big bags and a couple of chests.', 'I don\"t doubt theywere mostly full of treasure he had picked up in foreign parts, wherethere be mountains of gold, they say; but there wasn\"t enough to filltunnels.', 'But my lad Sam will know more about that.', 'He\"s in and out ofBag End.', 'Crazy about stories of the old days he is, and he listens toall Mr. Bilbo\"s tales.', 'Mr. Bilbo has learned him his letters —meaning no harm, mark you, and I hope no harm will come of it.', '\"Elves and Dragons!', 'I says to him.', '\"Cabbages and potatoes arebetter for me and you.', 'Don\"t go getting mixed up in the business ofyour betters, or you\"ll land in trouble too big for you,\" I says tohim.', 'And I might say it to others,\" he added with a look at thestranger and the miller.']\n"
     ]
    }
   ],
   "source": [
    "# tokenize sentences - create a list of sentences\n",
    "\n",
    "tokenized_text = sent_tokenize(text)\n",
    "\n",
    "print(tokenized_text)"
   ]
  },
  {
   "cell_type": "code",
   "execution_count": 49,
   "metadata": {},
   "outputs": [
    {
     "name": "stdout",
     "output_type": "stream",
     "text": [
      "['When', 'Mr.', 'Bilbo', 'Baggins', 'of', 'Bag', 'End', 'announced', 'that', 'he', 'would', 'shortly', 'becelebrating', 'his', 'eleventy-first', 'birthday', 'with', 'a', 'party', 'of', 'specialmagnificence', ',', 'there', 'was', 'much', 'talk', 'and', 'excitement', 'in', 'Hobbiton.Bilbo', 'was', 'very', 'rich', 'and', 'very', 'peculiar', ',', 'and', 'had', 'been', 'thewonder', 'of', 'the', 'Shire', 'for', 'sixty', 'years', ',', 'ever', 'since', 'his', 'remarkabledisappearance', 'and', 'unexpected', 'return', '.', 'The', 'riches', 'he', 'had', 'brought', 'backfrom', 'his', 'travels', 'had', 'now', 'become', 'a', 'local', 'legend', ',', 'and', 'it', 'was', 'popularlybelieved', ',', 'whatever', 'the', 'old', 'folk', 'might', 'say', ',', 'that', 'the', 'Hill', 'at', 'Bag', 'Endwas', 'full', 'of', 'tunnels', 'stuffed', 'with', 'treasure', '.', 'And', 'if', 'that', 'was', 'not', 'enoughfor', 'fame', ',', 'there', 'was', 'also', 'his', 'prolonged', 'vigour', 'to', 'marvel', 'at', '.', 'Time', 'woreon', ',', 'but', 'it', 'seemed', 'to', 'have', 'little', 'effect', 'on', 'Mr.', 'Baggins', '.', 'At', 'ninety', 'hewas', 'much', 'the', 'same', 'as', 'at', 'fifty', '.', 'At', 'ninety-nine', 'they', 'began', 'to', 'call', 'himwell-preserved', ';', 'but', 'unchanged', 'would', 'have', 'been', 'nearer', 'the', 'mark', '.', 'Therewere', 'some', 'that', 'shook', 'their', 'heads', 'and', 'thought', 'this', 'was', 'too', 'much', 'of', 'agood', 'thing', ';', 'it', 'seemed', 'unfair', 'that', 'anyone', 'should', 'possess', '(', 'apparently', ')', 'perpetual', 'youth', 'as', 'well', 'as', '(', 'reputedly', ')', 'inexhaustible', 'wealth', '.', '``', 'It', 'will', 'have', 'to', 'be', 'paid', 'for', ',', \"''\", 'they', 'said', '.', '``', 'It', 'isn', \"''\", 't', 'natural', ',', 'and', 'trouble', 'will', 'come', 'of', 'it', '!', '``', 'But', 'so', 'far', 'trouble', 'had', 'not', 'come', ';', 'and', 'as', 'Mr.', 'Baggins', 'wasgenerous', 'with', 'his', 'money', ',', 'most', 'people', 'were', 'willing', 'to', 'forgive', 'him', 'hisoddities', 'and', 'his', 'good', 'fortune', '.', 'He', 'remained', 'on', 'visiting', 'terms', 'with', 'hisrelatives', '(', 'except', ',', 'of', 'course', ',', 'the', 'Sackville-Bagginses', ')', ',', 'and', 'he', 'hadmany', 'devoted', 'admirers', 'among', 'the', 'hobbits', 'of', 'poor', 'and', 'unimportantfamilies', '.', 'But', 'he', 'had', 'no', 'close', 'friends', ',', 'until', 'some', 'of', 'his', 'youngercousins', 'began', 'to', 'grow', 'up.The', 'eldest', 'of', 'these', ',', 'and', 'Bilbo', \"''\", 's', 'favourite', ',', 'was', 'young', 'FrodoBaggins', '.', 'When', 'Bilbo', 'was', 'ninety-nine', 'he', 'adopted', 'Frodo', 'as', 'his', 'heir', ',', 'andbrought', 'him', 'to', 'live', 'at', 'Bag', 'End', ';', 'and', 'the', 'hopes', 'of', 'the', 'Sackville-Bagginses', 'were', 'finally', 'dashed', '.', 'Bilbo', 'and', 'Frodo', 'happened', 'to', 'have', 'thesame', 'birthday', ',', 'September', '22nd', '.', '``', 'You', 'had', 'better', 'come', 'and', 'live', 'here', ',', 'Frodo', 'my', 'lad', ',', \"''\", 'said', 'Bilbo', 'one', 'day', ';', '``', 'and', 'then', 'we', 'can', 'celebrate', 'ourbirthday-parties', 'comfortably', 'together', '.', \"''\", 'At', 'that', 'time', 'Frodo', 'was', 'stillin', 'his', 'tweens', ',', 'as', 'the', 'hobbits', 'called', 'the', 'irresponsible', 'twentiesbetween', 'childhood', 'and', 'coming', 'of', 'age', 'at', 'thirty-three.Twelve', 'more', 'years', 'passed', '.', 'Each', 'year', 'the', 'Bagginses', 'had', 'givenvery', 'lively', 'combined', 'birthday-parties', 'at', 'Bag', 'End', ';', 'but', 'now', 'it', 'wasunderstood', 'that', 'something', 'quite', 'exceptional', 'was', 'being', 'planned', 'forthat', 'autumn', '.', 'Bilbo', 'was', 'going', 'to', 'be', 'eleventy-one', ',', '111', ',', 'a', 'rathercurious', 'number', ',', 'and', 'a', 'very', 'respectable', 'age', 'for', 'a', 'hobbit', '(', 'the', 'Old', 'Tookhimself', 'had', 'only', 'reached', '130', ')', ';', 'and', 'Frodo', 'was', 'going', 'to', 'be', 'thirty-three', ',', '33', ',', 'an', 'important', 'number', ':', 'the', 'date', 'of', 'his', '``', 'coming', 'of', 'age', \"''\", '.Tongues', 'began', 'to', 'wag', 'in', 'Hobbiton', 'and', 'Bywater', ';', 'and', 'rumour', 'ofthe', 'coming', 'event', 'travelled', 'all', 'over', 'the', 'Shire', '.', 'The', 'history', 'andcharacter', 'of', 'Mr.', 'Bilbo', 'Baggins', 'became', 'once', 'again', 'the', 'chief', 'topic', 'ofconversation', ';', 'and', 'the', 'older', 'folk', 'suddenly', 'found', 'their', 'reminiscencesin', 'welcome', 'demand.No', 'one', 'had', 'a', 'more', 'attentive', 'audience', 'than', 'old', 'Ham', 'Gamgee', ',', 'commonly', 'known', 'as', 'the', 'Gaffer', '.', 'He', 'held', 'forth', 'at', 'The', 'Ivy', 'Bush', ',', 'a', 'smallinn', 'on', 'the', 'Bywater', 'road', ';', 'and', 'he', 'spoke', 'with', 'some', 'authority', ',', 'for', 'he', 'hadtended', 'the', 'garden', 'at', 'Bag', 'End', 'for', 'forty', 'years', ',', 'and', 'had', 'helped', 'oldHolman', 'in', 'the', 'same', 'job', 'before', 'that', '.', 'Now', 'that', 'he', 'was', 'himself', 'growingold', 'and', 'stiff', 'in', 'the', 'joints', ',', 'the', 'job', 'was', 'mainly', 'carried', 'on', 'by', 'hisyoungest', 'son', ',', 'Sam', 'Gamgee', '.', 'Both', 'father', 'and', 'son', 'were', 'on', 'very', 'friendlyterms', 'with', 'Bilbo', 'and', 'Frodo', '.', 'They', 'lived', 'on', 'the', 'Hill', 'itself', ',', 'in', 'Number3', 'Bagshot', 'Row', 'just', 'below', 'Bag', 'End', '.', '``', 'A', 'very', 'nice', 'well-spoken', 'gentlehobbit', 'is', 'Mr.', 'Bilbo', ',', 'as', 'I', \"''\", 'vealways', 'said', ',', \"''\", 'the', 'Gaffer', 'declared', '.', 'With', 'perfect', 'truth', ':', 'for', 'Bilbo', 'wasvery', 'polite', 'to', 'him', ',', 'calling', 'him', '``', 'Master', 'Hamfast', \"''\", ',', 'and', 'consulting', 'himconstantly', 'upon', 'the', 'growing', 'of', 'vegetables', '—', 'in', 'the', 'matter', 'of', '``', 'roots', \"''\", ',', 'especially', 'potatoes', ',', 'the', 'Gaffer', 'was', 'recognized', 'as', 'the', 'leadingauthority', 'by', 'all', 'in', 'the', 'neighbourhood', '(', 'including', 'himself', ')', '.', '``', 'But', 'what', 'about', 'this', 'Frodo', 'that', 'lives', 'with', 'him', '?', \"''\", 'asked', 'OldNoakes', 'of', 'Bywater', '.', '``', 'Baggins', 'is', 'his', 'name', ',', 'but', 'he', \"''\", 's', 'more', 'than', 'half', 'aBrandybuck', ',', 'they', 'say', '.', 'It', 'beats', 'me', 'why', 'any', 'Baggins', 'of', 'Hobbiton', 'shouldgo', 'looking', 'for', 'a', 'wife', 'away', 'there', 'in', 'Buckland', ',', 'where', 'folks', 'are', 'soqueer', '.', '``', '``', 'And', 'no', 'wonder', 'they', \"''\", 're', 'queer', ',', \"''\", 'put', 'in', 'Daddy', 'Twofoot', '(', 'theGaffer', \"''\", 's', 'next-door', 'neighbour', ')', ',', '``', 'if', 'they', 'live', 'on', 'the', 'wrong', 'side', 'of', 'theBrandywine', 'River', ',', 'and', 'right', 'agin', 'the', 'Old', 'Forest', '.', 'That', \"''\", 's', 'a', 'dark', 'badplace', ',', 'if', 'half', 'the', 'tales', 'be', 'true', '.', '``', '``', 'You', \"''\", 're', 'right', ',', 'Dad', '!', \"''\", 'said', 'the', 'Gaffer', '.', '``', 'Not', 'that', 'theBrandybucks', 'of', 'Buckland', 'live', 'in', 'the', 'Old', 'Forest', ';', 'but', 'they', \"''\", 're', 'a', 'queerbreed', ',', 'seemingly', '.', 'They', 'fool', 'about', 'with', 'boats', 'on', 'that', 'big', 'river', '—', 'andthat', 'isn', \"''\", 't', 'natural', '.', 'Small', 'wonder', 'that', 'trouble', 'came', 'of', 'it', ',', 'I', 'say', '.', 'Butbe', 'that', 'as', 'it', 'may', ',', 'Mr.', 'Frodo', 'is', 'as', 'nice', 'a', 'young', 'hobbit', 'as', 'you', 'couldwish', 'to', 'meet', '.', 'Very', 'much', 'like', 'Mr.', 'Bilbo', ',', 'and', 'in', 'more', 'than', 'looks', '.', 'Afterall', 'his', 'father', 'was', 'a', 'Baggins', '.', 'A', 'decent', 'respectable', 'hobbit', 'was', 'Mr.Drogo', 'Baggins', ';', 'there', 'was', 'never', 'much', 'to', 'tell', 'of', 'him', ',', 'till', 'he', 'wasdrownded.', \"''\", \"''\", 'Drownded', '?', \"''\", 'said', 'several', 'voices', '.', 'They', 'had', 'heard', 'this', 'andother', 'darker', 'rumours', 'before', ',', 'of', 'course', ';', 'but', 'hobbits', 'have', 'a', 'passionfor', 'family', 'history', ',', 'and', 'they', 'were', 'ready', 'to', 'hear', 'it', 'again', '.', '``', 'Well', ',', 'so', 'they', 'say', ',', \"''\", 'said', 'the', 'Gaffer', '.', '``', 'You', 'see', ':', 'Mr.', 'Drogo', ',', 'hemarried', 'poor', 'Miss', 'Primula', 'Brandybuck', '.', 'She', 'was', 'our', 'Mr.', 'Bilbo', \"''\", 's', 'firstcousin', 'on', 'the', 'mother', \"''\", 's', 'side', '(', 'her', 'mother', 'being', 'the', 'youngest', 'of', 'the', 'OldTook', \"''\", 's', 'daughters', ')', ';', 'and', 'Mr.', 'Drogo', 'was', 'his', 'second', 'cousin', '.', 'So', 'Mr.', 'Frodois', 'his', 'first', 'and', 'second', 'cousin', ',', 'once', 'removed', 'either', 'way', ',', 'as', 'thesaying', 'is', ',', 'if', 'you', 'follow', 'me', '.', 'And', 'Mr.', 'Drogo', 'was', 'staying', 'at', 'Brandy', 'Hallwith', 'his', 'father-in-law', ',', 'old', 'Master', 'Gorbadoc', ',', 'as', 'he', 'often', 'did', 'afterhis', 'marriage', '(', 'him', 'being', 'partial', 'to', 'his', 'vittles', ',', 'and', 'old', 'Gorbadockeeping', 'a', 'mighty', 'generous', 'table', ')', ';', 'and', 'he', 'went', 'out', 'boating', 'on', 'theBrandywine', 'River', ';', 'and', 'he', 'and', 'his', 'wife', 'were', 'drownded', ',', 'and', 'poor', 'Mr.Frodo', 'only', 'a', 'child', 'and', 'all', '.', '``', '``', 'I', \"''\", 've', 'heard', 'they', 'went', 'on', 'the', 'water', 'after', 'dinner', 'in', 'themoonlight', ',', \"''\", 'said', 'Old', 'Noakes', ';', '``', 'and', 'it', 'was', 'Drogo', \"''\", 's', 'weight', 'as', 'sunk', 'theboat', '.', '``', '``', 'And', 'I', 'heard', 'she', 'pushed', 'him', 'in', ',', 'and', 'he', 'pulled', 'her', 'in', 'afterhim', ',', \"''\", 'said', 'Sandyman', ',', 'the', 'Hobbiton', 'miller', '.', '``', 'You', 'shouldn', \"''\", 't', 'listen', 'to', 'all', 'you', 'hear', ',', 'Sandyman', ',', \"''\", 'said', 'theGaffer', ',', 'who', 'did', 'not', 'much', 'like', 'the', 'miller', '.', '``', 'There', 'isn', \"''\", 't', 'no', 'call', 'to', 'gotalking', 'of', 'pushing', 'and', 'pulling', '.', 'Boats', 'are', 'quite', 'tricky', 'enough', 'forthose', 'that', 'sit', 'still', 'without', 'looking', 'further', 'for', 'the', 'cause', 'oftrouble', '.', 'Anyway', ':', 'there', 'was', 'this', 'Mr.', 'Frodo', 'left', 'an', 'orphan', 'andstranded', ',', 'as', 'you', 'might', 'say', ',', 'among', 'those', 'queer', 'Bucklanders', ',', 'beingbrought', 'up', 'anyhow', 'in', 'Brandy', 'Hall', '.', 'A', 'regular', 'warren', ',', 'by', 'all', 'accounts.Old', 'Master', 'Gorbadoc', 'never', 'had', 'fewer', 'than', 'a', 'couple', 'of', 'hundredrelations', 'in', 'the', 'place', '.', 'Mr.', 'Bilbo', 'never', 'did', 'a', 'kinder', 'deed', 'than', 'whenhe', 'brought', 'the', 'lad', 'back', 'to', 'live', 'among', 'decent', 'folk', '.', '``', 'But', 'I', 'reckon', 'it', 'was', 'a', 'nasty', 'shock', 'for', 'those', 'Sackville-Bagginses', '.', 'They', 'thought', 'they', 'were', 'going', 'to', 'get', 'Bag', 'End', ',', 'that', 'timewhen', 'he', 'went', 'off', 'and', 'was', 'thought', 'to', 'be', 'dead', '.', 'And', 'then', 'he', 'comes', 'backand', 'orders', 'them', 'off', ';', 'and', 'he', 'goes', 'on', 'living', 'and', 'living', ',', 'and', 'neverlooking', 'a', 'day', 'older', ',', 'bless', 'him', '!', 'And', 'suddenly', 'he', 'produces', 'an', 'heir', ',', 'andhas', 'all', 'the', 'papers', 'made', 'out', 'proper', '.', 'The', 'Sackville-Bagginses', 'won', \"''\", 'tnever', 'see', 'the', 'inside', 'of', 'Bag', 'End', 'now', ',', 'or', 'it', 'is', 'to', 'be', 'hoped', 'not', '.', '``', '``', 'There', \"''\", 's', 'a', 'tidy', 'bit', 'of', 'money', 'tucked', 'away', 'up', 'there', ',', 'I', 'heartell', ',', \"''\", 'said', 'a', 'stranger', ',', 'a', 'visitor', 'on', 'business', 'from', 'Michel', 'Delving', 'inthe', 'Westfarthing', '.', '``', 'All', 'the', 'top', 'of', 'your', 'hill', 'is', 'full', 'of', 'tunnels', 'packedwith', 'chests', 'of', 'gold', 'and', 'silver', ',', 'and', 'jools', ',', 'by', 'what', 'I', \"''\", 've', 'heard', '.', '``', '``', 'Then', 'you', \"''\", 've', 'heard', 'more', 'than', 'I', 'can', 'speak', 'to', ',', \"''\", 'answered', 'theGaffer', '.', 'I', 'know', 'nothing', 'about', 'jools', '.', 'Mr.', 'Bilbo', 'is', 'free', 'with', 'his', 'money', ',', 'and', 'there', 'seems', 'no', 'lack', 'of', 'it', ';', 'but', 'I', 'know', 'of', 'no', 'tunnel-making', '.', 'I', 'sawMr', '.', 'Bilbo', 'when', 'he', 'came', 'back', ',', 'a', 'matter', 'of', 'sixty', 'years', 'ago', ',', 'when', 'I', 'wasa', 'lad', '.', 'I', \"''\", 'd', 'not', 'long', 'come', 'prentice', 'to', 'old', 'Holman', '(', 'him', 'being', 'my', 'dad', \"''\", 'scousin', ')', ',', 'but', 'he', 'had', 'me', 'up', 'at', 'Bag', 'End', 'helping', 'him', 'to', 'keep', 'folks', 'fromtrampling', 'and', 'trapessing', 'all', 'over', 'the', 'garden', 'while', 'the', 'sale', 'was', 'on.And', 'in', 'the', 'middle', 'of', 'it', 'all', 'Mr.', 'Bilbo', 'comes', 'up', 'the', 'Hill', 'with', 'a', 'ponyand', 'some', 'mighty', 'big', 'bags', 'and', 'a', 'couple', 'of', 'chests', '.', 'I', 'don', \"''\", 't', 'doubt', 'theywere', 'mostly', 'full', 'of', 'treasure', 'he', 'had', 'picked', 'up', 'in', 'foreign', 'parts', ',', 'wherethere', 'be', 'mountains', 'of', 'gold', ',', 'they', 'say', ';', 'but', 'there', 'wasn', \"''\", 't', 'enough', 'to', 'filltunnels', '.', 'But', 'my', 'lad', 'Sam', 'will', 'know', 'more', 'about', 'that', '.', 'He', \"''\", 's', 'in', 'and', 'out', 'ofBag', 'End', '.', 'Crazy', 'about', 'stories', 'of', 'the', 'old', 'days', 'he', 'is', ',', 'and', 'he', 'listens', 'toall', 'Mr.', 'Bilbo', \"''\", 's', 'tales', '.', 'Mr.', 'Bilbo', 'has', 'learned', 'him', 'his', 'letters', '—meaning', 'no', 'harm', ',', 'mark', 'you', ',', 'and', 'I', 'hope', 'no', 'harm', 'will', 'come', 'of', 'it', '.', '``', 'Elves', 'and', 'Dragons', '!', 'I', 'says', 'to', 'him', '.', '``', 'Cabbages', 'and', 'potatoes', 'arebetter', 'for', 'me', 'and', 'you', '.', 'Don', \"''\", 't', 'go', 'getting', 'mixed', 'up', 'in', 'the', 'business', 'ofyour', 'betters', ',', 'or', 'you', \"''\", 'll', 'land', 'in', 'trouble', 'too', 'big', 'for', 'you', ',', \"''\", 'I', 'says', 'tohim', '.', 'And', 'I', 'might', 'say', 'it', 'to', 'others', ',', \"''\", 'he', 'added', 'with', 'a', 'look', 'at', 'thestranger', 'and', 'the', 'miller', '.']\n"
     ]
    }
   ],
   "source": [
    "# tokenize words\n",
    "tokenized_word = word_tokenize(text)\n",
    "print(tokenized_word)"
   ]
  },
  {
   "cell_type": "code",
   "execution_count": 50,
   "metadata": {},
   "outputs": [
    {
     "name": "stdout",
     "output_type": "stream",
     "text": [
      "<FreqDist with 646 samples and 1794 outcomes>\n"
     ]
    }
   ],
   "source": [
    "fdist = FreqDist(tokenized_word)\n",
    "print(fdist)"
   ]
  },
  {
   "cell_type": "code",
   "execution_count": 51,
   "metadata": {},
   "outputs": [
    {
     "data": {
      "text/plain": [
       "[(',', 99),\n",
       " ('.', 72),\n",
       " ('and', 58),\n",
       " ('the', 55),\n",
       " (\"''\", 50),\n",
       " ('of', 41),\n",
       " ('``', 34),\n",
       " ('to', 28),\n",
       " ('a', 26),\n",
       " ('was', 26),\n",
       " ('he', 24),\n",
       " ('in', 21),\n",
       " (';', 20),\n",
       " ('his', 19),\n",
       " ('Mr.', 18),\n",
       " ('Bilbo', 18),\n",
       " ('I', 18),\n",
       " ('that', 17),\n",
       " ('as', 16),\n",
       " ('it', 15)]"
      ]
     },
     "execution_count": 51,
     "metadata": {},
     "output_type": "execute_result"
    }
   ],
   "source": [
    "fdist.most_common(20)"
   ]
  },
  {
   "cell_type": "code",
   "execution_count": 52,
   "metadata": {},
   "outputs": [
    {
     "name": "stdout",
     "output_type": "stream",
     "text": [
      "{'am', 's', 'hers', 'was', 'ourselves', 'own', 'isn', 'o', 'our', \"you'd\", 'too', 'theirs', 'ain', 'should', 'needn', 'over', 'during', 'hadn', 'such', 'shouldn', \"don't\", 't', 'off', 'further', 'most', 'same', 'be', 'a', 'by', \"you're\", 'has', 'each', 'mustn', 'herself', 'me', 'weren', 'the', \"haven't\", 'up', 'again', 'then', 'my', \"hadn't\", 'this', 'an', 'about', 'through', 'd', \"couldn't\", 'other', 'she', \"you've\", 'ours', 'while', 'down', 'when', 'he', 'there', 'doing', 'didn', \"needn't\", 'or', \"shouldn't\", 'aren', \"aren't\", 'how', 'wasn', 'why', 'll', 'that', 'until', 'will', 'who', 'its', 'no', 'only', 'couldn', \"shan't\", 'it', 'do', \"weren't\", 'on', 'once', 'hasn', 'below', 'whom', 'been', 'between', 'to', 'above', 'wouldn', 'before', 'is', 'being', \"won't\", 'some', \"doesn't\", 'not', 're', 'after', 'yourselves', \"she's\", 'if', 'here', \"you'll\", 'because', \"that'll\", 'those', 'ma', 'him', 'were', 'itself', 'out', 'nor', 'does', 'very', \"hasn't\", 'm', 'you', 'but', 'are', 'against', 'doesn', 'any', 'these', 'did', 'her', 'they', 'myself', 'for', \"isn't\", \"didn't\", 'at', 've', 'can', \"should've\", 'few', 'having', 'from', 'their', 'yours', 'them', 'themselves', 'haven', 'more', \"mightn't\", 'under', 'i', 'y', 'himself', \"wasn't\", 'won', 'and', 'have', 'what', 'all', \"wouldn't\", 'your', 'yourself', 'in', 'we', 'with', 'where', 'his', 'shan', 'had', 'don', 'than', 'mightn', 'both', 'just', 'now', 'so', 'of', 'into', 'which', 'as', \"it's\", \"mustn't\"}\n"
     ]
    }
   ],
   "source": [
    "stop_words = set(stopwords.words(\"english\"))\n",
    "print(stop_words)"
   ]
  },
  {
   "cell_type": "code",
   "execution_count": 55,
   "metadata": {},
   "outputs": [],
   "source": [
    "more_punctuation = {\"``\",\"''\"}"
   ]
  },
  {
   "cell_type": "code",
   "execution_count": 56,
   "metadata": {},
   "outputs": [
    {
     "data": {
      "text/plain": [
       "'!\"#$%&\\'()*+,-./:;<=>?@[\\\\]^_`{|}~'"
      ]
     },
     "execution_count": 56,
     "metadata": {},
     "output_type": "execute_result"
    }
   ],
   "source": [
    "string.punctuation"
   ]
  },
  {
   "cell_type": "code",
   "execution_count": 57,
   "metadata": {},
   "outputs": [
    {
     "name": "stdout",
     "output_type": "stream",
     "text": [
      "['when', 'mr.', 'bilbo', 'baggins', 'bag', 'end', 'announced', 'would', 'shortly', 'becelebrating', 'eleventy-first', 'birthday', 'party', 'specialmagnificence', 'much', 'talk', 'excitement', 'hobbiton.bilbo', 'rich', 'peculiar', 'thewonder', 'shire', 'sixty', 'years', 'ever', 'since', 'remarkabledisappearance', 'unexpected', 'return', 'the', 'riches', 'brought', 'backfrom', 'travels', 'become', 'local', 'legend', 'popularlybelieved', 'whatever', 'old', 'folk', 'might', 'say', 'hill', 'bag', 'endwas', 'full', 'tunnels', 'stuffed', 'treasure', 'and', 'enoughfor', 'fame', 'also', 'prolonged', 'vigour', 'marvel', 'time', 'woreon', 'seemed', 'little', 'effect', 'mr.', 'baggins', 'at', 'ninety', 'hewas', 'much', 'fifty', 'at', 'ninety-nine', 'began', 'call', 'himwell-preserved', 'unchanged', 'would', 'nearer', 'mark', 'therewere', 'shook', 'heads', 'thought', 'much', 'agood', 'thing', 'seemed', 'unfair', 'anyone', 'possess', 'apparently', 'perpetual', 'youth', 'well', 'reputedly', 'inexhaustible', 'wealth', 'it', 'paid', 'said', 'it', 'natural', 'trouble', 'come', 'but', 'far', 'trouble', 'come', 'mr.', 'baggins', 'wasgenerous', 'money', 'people', 'willing', 'forgive', 'hisoddities', 'good', 'fortune', 'he', 'remained', 'visiting', 'terms', 'hisrelatives', 'except', 'course', 'sackville-bagginses', 'hadmany', 'devoted', 'admirers', 'among', 'hobbits', 'poor', 'unimportantfamilies', 'but', 'close', 'friends', 'youngercousins', 'began', 'grow', 'up.the', 'eldest', 'bilbo', 'favourite', 'young', 'frodobaggins', 'when', 'bilbo', 'ninety-nine', 'adopted', 'frodo', 'heir', 'andbrought', 'live', 'bag', 'end', 'hopes', 'sackville-bagginses', 'finally', 'dashed', 'bilbo', 'frodo', 'happened', 'thesame', 'birthday', 'september', '22nd', 'you', 'better', 'come', 'live', 'frodo', 'lad', 'said', 'bilbo', 'one', 'day', 'celebrate', 'ourbirthday-parties', 'comfortably', 'together', 'at', 'time', 'frodo', 'stillin', 'tweens', 'hobbits', 'called', 'irresponsible', 'twentiesbetween', 'childhood', 'coming', 'age', 'thirty-three.twelve', 'years', 'passed', 'each', 'year', 'bagginses', 'givenvery', 'lively', 'combined', 'birthday-parties', 'bag', 'end', 'wasunderstood', 'something', 'quite', 'exceptional', 'planned', 'forthat', 'autumn', 'bilbo', 'going', 'eleventy-one', '111', 'rathercurious', 'number', 'respectable', 'age', 'hobbit', 'old', 'tookhimself', 'reached', '130', 'frodo', 'going', 'thirty-three', '33', 'important', 'number', 'date', 'coming', 'age', '.tongues', 'began', 'wag', 'hobbiton', 'bywater', 'rumour', 'ofthe', 'coming', 'event', 'travelled', 'shire', 'the', 'history', 'andcharacter', 'mr.', 'bilbo', 'baggins', 'became', 'chief', 'topic', 'ofconversation', 'older', 'folk', 'suddenly', 'found', 'reminiscencesin', 'welcome', 'demand.no', 'one', 'attentive', 'audience', 'old', 'ham', 'gamgee', 'commonly', 'known', 'gaffer', 'he', 'held', 'forth', 'the', 'ivy', 'bush', 'smallinn', 'bywater', 'road', 'spoke', 'authority', 'hadtended', 'garden', 'bag', 'end', 'forty', 'years', 'helped', 'oldholman', 'job', 'now', 'growingold', 'stiff', 'joints', 'job', 'mainly', 'carried', 'hisyoungest', 'son', 'sam', 'gamgee', 'both', 'father', 'son', 'friendlyterms', 'bilbo', 'frodo', 'they', 'lived', 'hill', 'number3', 'bagshot', 'row', 'bag', 'end', 'a', 'nice', 'well-spoken', 'gentlehobbit', 'mr.', 'bilbo', 'i', 'vealways', 'said', 'gaffer', 'declared', 'with', 'perfect', 'truth', 'bilbo', 'wasvery', 'polite', 'calling', 'master', 'hamfast', 'consulting', 'himconstantly', 'upon', 'growing', 'vegetables', '—', 'matter', 'roots', 'especially', 'potatoes', 'gaffer', 'recognized', 'leadingauthority', 'neighbourhood', 'including', 'but', 'frodo', 'lives', 'asked', 'oldnoakes', 'bywater', 'baggins', 'name', 'half', 'abrandybuck', 'say', 'it', 'beats', 'baggins', 'hobbiton', 'shouldgo', 'looking', 'wife', 'away', 'buckland', 'folks', 'soqueer', 'and', 'wonder', 'queer', 'put', 'daddy', 'twofoot', 'thegaffer', 'next-door', 'neighbour', 'live', 'wrong', 'side', 'thebrandywine', 'river', 'right', 'agin', 'old', 'forest', 'that', 'dark', 'badplace', 'half', 'tales', 'true', 'you', 'right', 'dad', 'said', 'gaffer', 'not', 'thebrandybucks', 'buckland', 'live', 'old', 'forest', 'queerbreed', 'seemingly', 'they', 'fool', 'boats', 'big', 'river', '—', 'andthat', 'natural', 'small', 'wonder', 'trouble', 'came', 'i', 'say', 'butbe', 'may', 'mr.', 'frodo', 'nice', 'young', 'hobbit', 'couldwish', 'meet', 'very', 'much', 'like', 'mr.', 'bilbo', 'looks', 'afterall', 'father', 'baggins', 'a', 'decent', 'respectable', 'hobbit', 'mr.drogo', 'baggins', 'never', 'much', 'tell', 'till', 'wasdrownded.', 'drownded', 'said', 'several', 'voices', 'they', 'heard', 'andother', 'darker', 'rumours', 'course', 'hobbits', 'passionfor', 'family', 'history', 'ready', 'hear', 'well', 'say', 'said', 'gaffer', 'you', 'see', 'mr.', 'drogo', 'hemarried', 'poor', 'miss', 'primula', 'brandybuck', 'she', 'mr.', 'bilbo', 'firstcousin', 'mother', 'side', 'mother', 'youngest', 'oldtook', 'daughters', 'mr.', 'drogo', 'second', 'cousin', 'so', 'mr.', 'frodois', 'first', 'second', 'cousin', 'removed', 'either', 'way', 'thesaying', 'follow', 'and', 'mr.', 'drogo', 'staying', 'brandy', 'hallwith', 'father-in-law', 'old', 'master', 'gorbadoc', 'often', 'afterhis', 'marriage', 'partial', 'vittles', 'old', 'gorbadockeeping', 'mighty', 'generous', 'table', 'went', 'boating', 'thebrandywine', 'river', 'wife', 'drownded', 'poor', 'mr.frodo', 'child', 'i', 'heard', 'went', 'water', 'dinner', 'themoonlight', 'said', 'old', 'noakes', 'drogo', 'weight', 'sunk', 'theboat', 'and', 'i', 'heard', 'pushed', 'pulled', 'afterhim', 'said', 'sandyman', 'hobbiton', 'miller', 'you', 'listen', 'hear', 'sandyman', 'said', 'thegaffer', 'much', 'like', 'miller', 'there', 'call', 'gotalking', 'pushing', 'pulling', 'boats', 'quite', 'tricky', 'enough', 'forthose', 'sit', 'still', 'without', 'looking', 'cause', 'oftrouble', 'anyway', 'mr.', 'frodo', 'left', 'orphan', 'andstranded', 'might', 'say', 'among', 'queer', 'bucklanders', 'beingbrought', 'anyhow', 'brandy', 'hall', 'a', 'regular', 'warren', 'accounts.old', 'master', 'gorbadoc', 'never', 'fewer', 'couple', 'hundredrelations', 'place', 'mr.', 'bilbo', 'never', 'kinder', 'deed', 'whenhe', 'brought', 'lad', 'back', 'live', 'among', 'decent', 'folk', 'but', 'i', 'reckon', 'nasty', 'shock', 'sackville-bagginses', 'they', 'thought', 'going', 'get', 'bag', 'end', 'timewhen', 'went', 'thought', 'dead', 'and', 'comes', 'backand', 'orders', 'goes', 'living', 'living', 'neverlooking', 'day', 'older', 'bless', 'and', 'suddenly', 'produces', 'heir', 'andhas', 'papers', 'made', 'proper', 'the', 'sackville-bagginses', 'tnever', 'see', 'inside', 'bag', 'end', 'hoped', 'there', 'tidy', 'bit', 'money', 'tucked', 'away', 'i', 'heartell', 'said', 'stranger', 'visitor', 'business', 'michel', 'delving', 'inthe', 'westfarthing', 'all', 'top', 'hill', 'full', 'tunnels', 'packedwith', 'chests', 'gold', 'silver', 'jools', 'i', 'heard', 'then', 'heard', 'i', 'speak', 'answered', 'thegaffer', 'i', 'know', 'nothing', 'jools', 'mr.', 'bilbo', 'free', 'money', 'seems', 'lack', 'i', 'know', 'tunnel-making', 'i', 'sawmr', 'bilbo', 'came', 'back', 'matter', 'sixty', 'years', 'ago', 'i', 'wasa', 'lad', 'i', 'long', 'come', 'prentice', 'old', 'holman', 'dad', 'scousin', 'bag', 'end', 'helping', 'keep', 'folks', 'fromtrampling', 'trapessing', 'garden', 'sale', 'on.and', 'middle', 'mr.', 'bilbo', 'comes', 'hill', 'ponyand', 'mighty', 'big', 'bags', 'couple', 'chests', 'i', 'doubt', 'theywere', 'mostly', 'full', 'treasure', 'picked', 'foreign', 'parts', 'wherethere', 'mountains', 'gold', 'say', 'enough', 'filltunnels', 'but', 'lad', 'sam', 'know', 'he', 'ofbag', 'end', 'crazy', 'stories', 'old', 'days', 'listens', 'toall', 'mr.', 'bilbo', 'tales', 'mr.', 'bilbo', 'learned', 'letters', '—meaning', 'harm', 'mark', 'i', 'hope', 'harm', 'come', 'elves', 'dragons', 'i', 'says', 'cabbages', 'potatoes', 'arebetter', 'don', 'go', 'getting', 'mixed', 'business', 'ofyour', 'betters', 'land', 'trouble', 'big', 'i', 'says', 'tohim', 'and', 'i', 'might', 'say', 'others', 'added', 'look', 'thestranger', 'miller']\n"
     ]
    }
   ],
   "source": [
    "filtered_sent=[]\n",
    "for w in tokenized_word:\n",
    "    if w not in stop_words and w not in string.punctuation and w not in more_punctuation:\n",
    "        w = w.lower()\n",
    "        filtered_sent.append(w)\n",
    "print(filtered_sent)"
   ]
  },
  {
   "cell_type": "code",
   "execution_count": 58,
   "metadata": {},
   "outputs": [
    {
     "data": {
      "text/plain": [
       "[('mr.', 18),\n",
       " ('bilbo', 18),\n",
       " ('i', 18),\n",
       " ('old', 10),\n",
       " ('said', 10),\n",
       " ('bag', 9),\n",
       " ('end', 9),\n",
       " ('frodo', 9),\n",
       " ('baggins', 8),\n",
       " ('say', 7),\n",
       " ('and', 7),\n",
       " ('much', 6),\n",
       " ('come', 5),\n",
       " ('but', 5),\n",
       " ('live', 5),\n",
       " ('gaffer', 5),\n",
       " ('heard', 5),\n",
       " ('years', 4),\n",
       " ('the', 4),\n",
       " ('hill', 4)]"
      ]
     },
     "execution_count": 58,
     "metadata": {},
     "output_type": "execute_result"
    }
   ],
   "source": [
    "fdist = FreqDist(filtered_sent)\n",
    "fdist.most_common(20)"
   ]
  },
  {
   "cell_type": "code",
   "execution_count": 59,
   "metadata": {},
   "outputs": [],
   "source": [
    "# stemming words\n",
    "ps = PorterStemmer()\n",
    "\n",
    "stemmed_words=[]\n",
    "for w in filtered_sent:\n",
    "    stemmed_words.append(ps.stem(w))"
   ]
  },
  {
   "cell_type": "code",
   "execution_count": 60,
   "metadata": {},
   "outputs": [
    {
     "data": {
      "text/plain": [
       "['when',\n",
       " 'mr.',\n",
       " 'bilbo',\n",
       " 'baggin',\n",
       " 'bag',\n",
       " 'end',\n",
       " 'announc',\n",
       " 'would',\n",
       " 'shortli',\n",
       " 'becelebr',\n",
       " 'eleventy-first',\n",
       " 'birthday',\n",
       " 'parti',\n",
       " 'specialmagnific',\n",
       " 'much',\n",
       " 'talk',\n",
       " 'excit',\n",
       " 'hobbiton.bilbo',\n",
       " 'rich',\n",
       " 'peculiar',\n",
       " 'thewond',\n",
       " 'shire',\n",
       " 'sixti',\n",
       " 'year',\n",
       " 'ever',\n",
       " 'sinc',\n",
       " 'remarkabledisappear',\n",
       " 'unexpect',\n",
       " 'return',\n",
       " 'the',\n",
       " 'rich',\n",
       " 'brought',\n",
       " 'backfrom',\n",
       " 'travel',\n",
       " 'becom',\n",
       " 'local',\n",
       " 'legend',\n",
       " 'popularlybeliev',\n",
       " 'whatev',\n",
       " 'old',\n",
       " 'folk',\n",
       " 'might',\n",
       " 'say',\n",
       " 'hill',\n",
       " 'bag',\n",
       " 'endwa',\n",
       " 'full',\n",
       " 'tunnel',\n",
       " 'stuf',\n",
       " 'treasur',\n",
       " 'and',\n",
       " 'enoughfor',\n",
       " 'fame',\n",
       " 'also',\n",
       " 'prolong',\n",
       " 'vigour',\n",
       " 'marvel',\n",
       " 'time',\n",
       " 'woreon',\n",
       " 'seem',\n",
       " 'littl',\n",
       " 'effect',\n",
       " 'mr.',\n",
       " 'baggin',\n",
       " 'at',\n",
       " 'nineti',\n",
       " 'hewa',\n",
       " 'much',\n",
       " 'fifti',\n",
       " 'at',\n",
       " 'ninety-nin',\n",
       " 'began',\n",
       " 'call',\n",
       " 'himwell-preserv',\n",
       " 'unchang',\n",
       " 'would',\n",
       " 'nearer',\n",
       " 'mark',\n",
       " 'therewer',\n",
       " 'shook',\n",
       " 'head',\n",
       " 'thought',\n",
       " 'much',\n",
       " 'agood',\n",
       " 'thing',\n",
       " 'seem',\n",
       " 'unfair',\n",
       " 'anyon',\n",
       " 'possess',\n",
       " 'appar',\n",
       " 'perpetu',\n",
       " 'youth',\n",
       " 'well',\n",
       " 'reputedli',\n",
       " 'inexhaust',\n",
       " 'wealth',\n",
       " 'it',\n",
       " 'paid',\n",
       " 'said',\n",
       " 'it',\n",
       " 'natur',\n",
       " 'troubl',\n",
       " 'come',\n",
       " 'but',\n",
       " 'far',\n",
       " 'troubl',\n",
       " 'come',\n",
       " 'mr.',\n",
       " 'baggin',\n",
       " 'wasgener',\n",
       " 'money',\n",
       " 'peopl',\n",
       " 'will',\n",
       " 'forgiv',\n",
       " 'hisodd',\n",
       " 'good',\n",
       " 'fortun',\n",
       " 'he',\n",
       " 'remain',\n",
       " 'visit',\n",
       " 'term',\n",
       " 'hisrel',\n",
       " 'except',\n",
       " 'cours',\n",
       " 'sackville-baggins',\n",
       " 'hadmani',\n",
       " 'devot',\n",
       " 'admir',\n",
       " 'among',\n",
       " 'hobbit',\n",
       " 'poor',\n",
       " 'unimportantfamili',\n",
       " 'but',\n",
       " 'close',\n",
       " 'friend',\n",
       " 'youngercousin',\n",
       " 'began',\n",
       " 'grow',\n",
       " 'up.th',\n",
       " 'eldest',\n",
       " 'bilbo',\n",
       " 'favourit',\n",
       " 'young',\n",
       " 'frodobaggin',\n",
       " 'when',\n",
       " 'bilbo',\n",
       " 'ninety-nin',\n",
       " 'adopt',\n",
       " 'frodo',\n",
       " 'heir',\n",
       " 'andbrought',\n",
       " 'live',\n",
       " 'bag',\n",
       " 'end',\n",
       " 'hope',\n",
       " 'sackville-baggins',\n",
       " 'final',\n",
       " 'dash',\n",
       " 'bilbo',\n",
       " 'frodo',\n",
       " 'happen',\n",
       " 'thesam',\n",
       " 'birthday',\n",
       " 'septemb',\n",
       " '22nd',\n",
       " 'you',\n",
       " 'better',\n",
       " 'come',\n",
       " 'live',\n",
       " 'frodo',\n",
       " 'lad',\n",
       " 'said',\n",
       " 'bilbo',\n",
       " 'one',\n",
       " 'day',\n",
       " 'celebr',\n",
       " 'ourbirthday-parti',\n",
       " 'comfort',\n",
       " 'togeth',\n",
       " 'at',\n",
       " 'time',\n",
       " 'frodo',\n",
       " 'stillin',\n",
       " 'tween',\n",
       " 'hobbit',\n",
       " 'call',\n",
       " 'irrespons',\n",
       " 'twentiesbetween',\n",
       " 'childhood',\n",
       " 'come',\n",
       " 'age',\n",
       " 'thirty-three.twelv',\n",
       " 'year',\n",
       " 'pass',\n",
       " 'each',\n",
       " 'year',\n",
       " 'baggins',\n",
       " 'givenveri',\n",
       " 'live',\n",
       " 'combin',\n",
       " 'birthday-parti',\n",
       " 'bag',\n",
       " 'end',\n",
       " 'wasunderstood',\n",
       " 'someth',\n",
       " 'quit',\n",
       " 'except',\n",
       " 'plan',\n",
       " 'forthat',\n",
       " 'autumn',\n",
       " 'bilbo',\n",
       " 'go',\n",
       " 'eleventy-on',\n",
       " '111',\n",
       " 'rathercuri',\n",
       " 'number',\n",
       " 'respect',\n",
       " 'age',\n",
       " 'hobbit',\n",
       " 'old',\n",
       " 'tookhimself',\n",
       " 'reach',\n",
       " '130',\n",
       " 'frodo',\n",
       " 'go',\n",
       " 'thirty-thre',\n",
       " '33',\n",
       " 'import',\n",
       " 'number',\n",
       " 'date',\n",
       " 'come',\n",
       " 'age',\n",
       " '.tongu',\n",
       " 'began',\n",
       " 'wag',\n",
       " 'hobbiton',\n",
       " 'bywat',\n",
       " 'rumour',\n",
       " 'ofth',\n",
       " 'come',\n",
       " 'event',\n",
       " 'travel',\n",
       " 'shire',\n",
       " 'the',\n",
       " 'histori',\n",
       " 'andcharact',\n",
       " 'mr.',\n",
       " 'bilbo',\n",
       " 'baggin',\n",
       " 'becam',\n",
       " 'chief',\n",
       " 'topic',\n",
       " 'ofconvers',\n",
       " 'older',\n",
       " 'folk',\n",
       " 'suddenli',\n",
       " 'found',\n",
       " 'reminiscencesin',\n",
       " 'welcom',\n",
       " 'demand.no',\n",
       " 'one',\n",
       " 'attent',\n",
       " 'audienc',\n",
       " 'old',\n",
       " 'ham',\n",
       " 'gamge',\n",
       " 'commonli',\n",
       " 'known',\n",
       " 'gaffer',\n",
       " 'he',\n",
       " 'held',\n",
       " 'forth',\n",
       " 'the',\n",
       " 'ivi',\n",
       " 'bush',\n",
       " 'smallinn',\n",
       " 'bywat',\n",
       " 'road',\n",
       " 'spoke',\n",
       " 'author',\n",
       " 'hadtend',\n",
       " 'garden',\n",
       " 'bag',\n",
       " 'end',\n",
       " 'forti',\n",
       " 'year',\n",
       " 'help',\n",
       " 'oldholman',\n",
       " 'job',\n",
       " 'now',\n",
       " 'growingold',\n",
       " 'stiff',\n",
       " 'joint',\n",
       " 'job',\n",
       " 'mainli',\n",
       " 'carri',\n",
       " 'hisyoungest',\n",
       " 'son',\n",
       " 'sam',\n",
       " 'gamge',\n",
       " 'both',\n",
       " 'father',\n",
       " 'son',\n",
       " 'friendlyterm',\n",
       " 'bilbo',\n",
       " 'frodo',\n",
       " 'they',\n",
       " 'live',\n",
       " 'hill',\n",
       " 'number3',\n",
       " 'bagshot',\n",
       " 'row',\n",
       " 'bag',\n",
       " 'end',\n",
       " 'a',\n",
       " 'nice',\n",
       " 'well-spoken',\n",
       " 'gentlehobbit',\n",
       " 'mr.',\n",
       " 'bilbo',\n",
       " 'i',\n",
       " 'vealway',\n",
       " 'said',\n",
       " 'gaffer',\n",
       " 'declar',\n",
       " 'with',\n",
       " 'perfect',\n",
       " 'truth',\n",
       " 'bilbo',\n",
       " 'wasveri',\n",
       " 'polit',\n",
       " 'call',\n",
       " 'master',\n",
       " 'hamfast',\n",
       " 'consult',\n",
       " 'himconstantli',\n",
       " 'upon',\n",
       " 'grow',\n",
       " 'veget',\n",
       " '—',\n",
       " 'matter',\n",
       " 'root',\n",
       " 'especi',\n",
       " 'potato',\n",
       " 'gaffer',\n",
       " 'recogn',\n",
       " 'leadingauthor',\n",
       " 'neighbourhood',\n",
       " 'includ',\n",
       " 'but',\n",
       " 'frodo',\n",
       " 'live',\n",
       " 'ask',\n",
       " 'oldnoak',\n",
       " 'bywat',\n",
       " 'baggin',\n",
       " 'name',\n",
       " 'half',\n",
       " 'abrandybuck',\n",
       " 'say',\n",
       " 'it',\n",
       " 'beat',\n",
       " 'baggin',\n",
       " 'hobbiton',\n",
       " 'shouldgo',\n",
       " 'look',\n",
       " 'wife',\n",
       " 'away',\n",
       " 'buckland',\n",
       " 'folk',\n",
       " 'soqueer',\n",
       " 'and',\n",
       " 'wonder',\n",
       " 'queer',\n",
       " 'put',\n",
       " 'daddi',\n",
       " 'twofoot',\n",
       " 'thegaff',\n",
       " 'next-door',\n",
       " 'neighbour',\n",
       " 'live',\n",
       " 'wrong',\n",
       " 'side',\n",
       " 'thebrandywin',\n",
       " 'river',\n",
       " 'right',\n",
       " 'agin',\n",
       " 'old',\n",
       " 'forest',\n",
       " 'that',\n",
       " 'dark',\n",
       " 'badplac',\n",
       " 'half',\n",
       " 'tale',\n",
       " 'true',\n",
       " 'you',\n",
       " 'right',\n",
       " 'dad',\n",
       " 'said',\n",
       " 'gaffer',\n",
       " 'not',\n",
       " 'thebrandybuck',\n",
       " 'buckland',\n",
       " 'live',\n",
       " 'old',\n",
       " 'forest',\n",
       " 'queerbre',\n",
       " 'seemingli',\n",
       " 'they',\n",
       " 'fool',\n",
       " 'boat',\n",
       " 'big',\n",
       " 'river',\n",
       " '—',\n",
       " 'andthat',\n",
       " 'natur',\n",
       " 'small',\n",
       " 'wonder',\n",
       " 'troubl',\n",
       " 'came',\n",
       " 'i',\n",
       " 'say',\n",
       " 'butb',\n",
       " 'may',\n",
       " 'mr.',\n",
       " 'frodo',\n",
       " 'nice',\n",
       " 'young',\n",
       " 'hobbit',\n",
       " 'couldwish',\n",
       " 'meet',\n",
       " 'veri',\n",
       " 'much',\n",
       " 'like',\n",
       " 'mr.',\n",
       " 'bilbo',\n",
       " 'look',\n",
       " 'afteral',\n",
       " 'father',\n",
       " 'baggin',\n",
       " 'a',\n",
       " 'decent',\n",
       " 'respect',\n",
       " 'hobbit',\n",
       " 'mr.drogo',\n",
       " 'baggin',\n",
       " 'never',\n",
       " 'much',\n",
       " 'tell',\n",
       " 'till',\n",
       " 'wasdrownded.',\n",
       " 'drownd',\n",
       " 'said',\n",
       " 'sever',\n",
       " 'voic',\n",
       " 'they',\n",
       " 'heard',\n",
       " 'andoth',\n",
       " 'darker',\n",
       " 'rumour',\n",
       " 'cours',\n",
       " 'hobbit',\n",
       " 'passionfor',\n",
       " 'famili',\n",
       " 'histori',\n",
       " 'readi',\n",
       " 'hear',\n",
       " 'well',\n",
       " 'say',\n",
       " 'said',\n",
       " 'gaffer',\n",
       " 'you',\n",
       " 'see',\n",
       " 'mr.',\n",
       " 'drogo',\n",
       " 'hemarri',\n",
       " 'poor',\n",
       " 'miss',\n",
       " 'primula',\n",
       " 'brandybuck',\n",
       " 'she',\n",
       " 'mr.',\n",
       " 'bilbo',\n",
       " 'firstcousin',\n",
       " 'mother',\n",
       " 'side',\n",
       " 'mother',\n",
       " 'youngest',\n",
       " 'oldtook',\n",
       " 'daughter',\n",
       " 'mr.',\n",
       " 'drogo',\n",
       " 'second',\n",
       " 'cousin',\n",
       " 'so',\n",
       " 'mr.',\n",
       " 'frodoi',\n",
       " 'first',\n",
       " 'second',\n",
       " 'cousin',\n",
       " 'remov',\n",
       " 'either',\n",
       " 'way',\n",
       " 'thesay',\n",
       " 'follow',\n",
       " 'and',\n",
       " 'mr.',\n",
       " 'drogo',\n",
       " 'stay',\n",
       " 'brandi',\n",
       " 'hallwith',\n",
       " 'father-in-law',\n",
       " 'old',\n",
       " 'master',\n",
       " 'gorbadoc',\n",
       " 'often',\n",
       " 'afterhi',\n",
       " 'marriag',\n",
       " 'partial',\n",
       " 'vittl',\n",
       " 'old',\n",
       " 'gorbadockeep',\n",
       " 'mighti',\n",
       " 'gener',\n",
       " 'tabl',\n",
       " 'went',\n",
       " 'boat',\n",
       " 'thebrandywin',\n",
       " 'river',\n",
       " 'wife',\n",
       " 'drownd',\n",
       " 'poor',\n",
       " 'mr.frodo',\n",
       " 'child',\n",
       " 'i',\n",
       " 'heard',\n",
       " 'went',\n",
       " 'water',\n",
       " 'dinner',\n",
       " 'themoonlight',\n",
       " 'said',\n",
       " 'old',\n",
       " 'noak',\n",
       " 'drogo',\n",
       " 'weight',\n",
       " 'sunk',\n",
       " 'theboat',\n",
       " 'and',\n",
       " 'i',\n",
       " 'heard',\n",
       " 'push',\n",
       " 'pull',\n",
       " 'afterhim',\n",
       " 'said',\n",
       " 'sandyman',\n",
       " 'hobbiton',\n",
       " 'miller',\n",
       " 'you',\n",
       " 'listen',\n",
       " 'hear',\n",
       " 'sandyman',\n",
       " 'said',\n",
       " 'thegaff',\n",
       " 'much',\n",
       " 'like',\n",
       " 'miller',\n",
       " 'there',\n",
       " 'call',\n",
       " 'gotalk',\n",
       " 'push',\n",
       " 'pull',\n",
       " 'boat',\n",
       " 'quit',\n",
       " 'tricki',\n",
       " 'enough',\n",
       " 'forthos',\n",
       " 'sit',\n",
       " 'still',\n",
       " 'without',\n",
       " 'look',\n",
       " 'caus',\n",
       " 'oftroubl',\n",
       " 'anyway',\n",
       " 'mr.',\n",
       " 'frodo',\n",
       " 'left',\n",
       " 'orphan',\n",
       " 'andstrand',\n",
       " 'might',\n",
       " 'say',\n",
       " 'among',\n",
       " 'queer',\n",
       " 'buckland',\n",
       " 'beingbrought',\n",
       " 'anyhow',\n",
       " 'brandi',\n",
       " 'hall',\n",
       " 'a',\n",
       " 'regular',\n",
       " 'warren',\n",
       " 'accounts.old',\n",
       " 'master',\n",
       " 'gorbadoc',\n",
       " 'never',\n",
       " 'fewer',\n",
       " 'coupl',\n",
       " 'hundredrel',\n",
       " 'place',\n",
       " 'mr.',\n",
       " 'bilbo',\n",
       " 'never',\n",
       " 'kinder',\n",
       " 'deed',\n",
       " 'whenh',\n",
       " 'brought',\n",
       " 'lad',\n",
       " 'back',\n",
       " 'live',\n",
       " 'among',\n",
       " 'decent',\n",
       " 'folk',\n",
       " 'but',\n",
       " 'i',\n",
       " 'reckon',\n",
       " 'nasti',\n",
       " 'shock',\n",
       " 'sackville-baggins',\n",
       " 'they',\n",
       " 'thought',\n",
       " 'go',\n",
       " 'get',\n",
       " 'bag',\n",
       " 'end',\n",
       " 'timewhen',\n",
       " 'went',\n",
       " 'thought',\n",
       " 'dead',\n",
       " 'and',\n",
       " 'come',\n",
       " 'backand',\n",
       " 'order',\n",
       " 'goe',\n",
       " 'live',\n",
       " 'live',\n",
       " 'neverlook',\n",
       " 'day',\n",
       " 'older',\n",
       " 'bless',\n",
       " 'and',\n",
       " 'suddenli',\n",
       " 'produc',\n",
       " 'heir',\n",
       " 'andha',\n",
       " 'paper',\n",
       " 'made',\n",
       " 'proper',\n",
       " 'the',\n",
       " 'sackville-baggins',\n",
       " 'tnever',\n",
       " 'see',\n",
       " 'insid',\n",
       " 'bag',\n",
       " 'end',\n",
       " 'hope',\n",
       " 'there',\n",
       " 'tidi',\n",
       " 'bit',\n",
       " 'money',\n",
       " 'tuck',\n",
       " 'away',\n",
       " 'i',\n",
       " 'heartel',\n",
       " 'said',\n",
       " 'stranger',\n",
       " 'visitor',\n",
       " 'busi',\n",
       " 'michel',\n",
       " 'delv',\n",
       " 'inth',\n",
       " 'westfarth',\n",
       " 'all',\n",
       " 'top',\n",
       " 'hill',\n",
       " 'full',\n",
       " 'tunnel',\n",
       " 'packedwith',\n",
       " 'chest',\n",
       " 'gold',\n",
       " 'silver',\n",
       " 'jool',\n",
       " 'i',\n",
       " 'heard',\n",
       " 'then',\n",
       " 'heard',\n",
       " 'i',\n",
       " 'speak',\n",
       " 'answer',\n",
       " 'thegaff',\n",
       " 'i',\n",
       " 'know',\n",
       " 'noth',\n",
       " 'jool',\n",
       " 'mr.',\n",
       " 'bilbo',\n",
       " 'free',\n",
       " 'money',\n",
       " 'seem',\n",
       " 'lack',\n",
       " 'i',\n",
       " 'know',\n",
       " 'tunnel-mak',\n",
       " 'i',\n",
       " 'sawmr',\n",
       " 'bilbo',\n",
       " 'came',\n",
       " 'back',\n",
       " 'matter',\n",
       " 'sixti',\n",
       " 'year',\n",
       " 'ago',\n",
       " 'i',\n",
       " 'wasa',\n",
       " 'lad',\n",
       " 'i',\n",
       " 'long',\n",
       " 'come',\n",
       " 'prentic',\n",
       " 'old',\n",
       " 'holman',\n",
       " 'dad',\n",
       " 'scousin',\n",
       " 'bag',\n",
       " 'end',\n",
       " 'help',\n",
       " 'keep',\n",
       " 'folk',\n",
       " 'fromtrampl',\n",
       " 'trapess',\n",
       " 'garden',\n",
       " 'sale',\n",
       " 'on.and',\n",
       " 'middl',\n",
       " 'mr.',\n",
       " 'bilbo',\n",
       " 'come',\n",
       " 'hill',\n",
       " 'ponyand',\n",
       " 'mighti',\n",
       " 'big',\n",
       " 'bag',\n",
       " 'coupl',\n",
       " 'chest',\n",
       " 'i',\n",
       " 'doubt',\n",
       " 'theywer',\n",
       " 'mostli',\n",
       " 'full',\n",
       " 'treasur',\n",
       " 'pick',\n",
       " 'foreign',\n",
       " 'part',\n",
       " 'wherether',\n",
       " 'mountain',\n",
       " 'gold',\n",
       " 'say',\n",
       " 'enough',\n",
       " 'filltunnel',\n",
       " 'but',\n",
       " 'lad',\n",
       " 'sam',\n",
       " 'know',\n",
       " 'he',\n",
       " 'ofbag',\n",
       " 'end',\n",
       " 'crazi',\n",
       " 'stori',\n",
       " 'old',\n",
       " 'day',\n",
       " 'listen',\n",
       " 'toall',\n",
       " 'mr.',\n",
       " 'bilbo',\n",
       " 'tale',\n",
       " 'mr.',\n",
       " 'bilbo',\n",
       " 'learn',\n",
       " 'letter',\n",
       " '—mean',\n",
       " 'harm',\n",
       " 'mark',\n",
       " 'i',\n",
       " 'hope',\n",
       " 'harm',\n",
       " 'come',\n",
       " 'elv',\n",
       " 'dragon',\n",
       " 'i',\n",
       " 'say',\n",
       " 'cabbag',\n",
       " 'potato',\n",
       " 'arebett',\n",
       " 'don',\n",
       " 'go',\n",
       " 'get',\n",
       " 'mix',\n",
       " 'busi',\n",
       " 'ofyour',\n",
       " 'better',\n",
       " 'land',\n",
       " 'troubl',\n",
       " 'big',\n",
       " 'i',\n",
       " 'say',\n",
       " 'tohim',\n",
       " 'and',\n",
       " 'i',\n",
       " 'might',\n",
       " 'say',\n",
       " 'other',\n",
       " 'ad',\n",
       " 'look',\n",
       " 'thestrang',\n",
       " 'miller']"
      ]
     },
     "execution_count": 60,
     "metadata": {},
     "output_type": "execute_result"
    }
   ],
   "source": [
    "stemmed_words"
   ]
  },
  {
   "cell_type": "code",
   "execution_count": null,
   "metadata": {},
   "outputs": [],
   "source": [
    "fdist = FreqDist(stemmed_words)\n",
    "fdist.most_common(20)"
   ]
  },
  {
   "cell_type": "code",
   "execution_count": null,
   "metadata": {},
   "outputs": [],
   "source": [
    "lem = WordNetLemmatizer()\n",
    "\n",
    "lemmatized_words=[]\n",
    "for w in filtered_sent:\n",
    "    w = w.lower()\n",
    "    lemmatized_words.append(lem.lemmatize(w,'v'))"
   ]
  },
  {
   "cell_type": "code",
   "execution_count": null,
   "metadata": {},
   "outputs": [],
   "source": [
    "lemmatized_words"
   ]
  },
  {
   "cell_type": "code",
   "execution_count": null,
   "metadata": {},
   "outputs": [],
   "source": [
    "fdist = FreqDist(lemmatized_words)\n",
    "fdist.most_common(40)"
   ]
  },
  {
   "cell_type": "code",
   "execution_count": null,
   "metadata": {},
   "outputs": [],
   "source": [
    "# read in lists of positive and negative words\n",
    "positive_words = []\n",
    "with open('positive-words.txt','r') as pos_file:\n",
    "    for word in pos_file:\n",
    "        word = word.strip()\n",
    "        positive_words.append(word)\n",
    "\n",
    "        \n",
    "negative_words = []\n",
    "with open('negative-words.txt','r') as neg_file:\n",
    "    for word in neg_file:\n",
    "        word = word.strip()\n",
    "        negative_words.append(word)"
   ]
  },
  {
   "cell_type": "code",
   "execution_count": null,
   "metadata": {},
   "outputs": [],
   "source": [
    "print(len(negative_words))\n",
    "print(len(positive_words))"
   ]
  },
  {
   "cell_type": "code",
   "execution_count": null,
   "metadata": {},
   "outputs": [],
   "source": [
    "sentiment_list = []\n",
    "\n",
    "for word in lemmatized_words:\n",
    "    if word in positive_words:\n",
    "        sentiment_list.append({'word': word,'sentiment': 'positive'})\n",
    "    elif word in negative_words:\n",
    "        sentiment_list.append({'word': word,'sentiment': 'negative'})\n",
    "    else:\n",
    "        sentiment_list.append({'word': word,'sentiment': 'neutral'})\n"
   ]
  },
  {
   "cell_type": "code",
   "execution_count": null,
   "metadata": {},
   "outputs": [],
   "source": [
    "sentiment_list"
   ]
  },
  {
   "cell_type": "code",
   "execution_count": null,
   "metadata": {},
   "outputs": [],
   "source": [
    "for item in sentiment_list:\n",
    "    if item['sentiment'] == 'positive':\n",
    "        print(item['word'])"
   ]
  },
  {
   "cell_type": "code",
   "execution_count": null,
   "metadata": {},
   "outputs": [],
   "source": [
    "for item in sentiment_list:\n",
    "    if item['sentiment'] == 'negative':\n",
    "        print(item['word'])"
   ]
  }
 ],
 "metadata": {
  "kernelspec": {
   "display_name": "Python 3",
   "language": "python",
   "name": "python3"
  },
  "language_info": {
   "codemirror_mode": {
    "name": "ipython",
    "version": 3
   },
   "file_extension": ".py",
   "mimetype": "text/x-python",
   "name": "python",
   "nbconvert_exporter": "python",
   "pygments_lexer": "ipython3",
   "version": "3.8.5"
  }
 },
 "nbformat": 4,
 "nbformat_minor": 4
}
